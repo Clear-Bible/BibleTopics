{
 "cells": [
  {
   "cell_type": "markdown",
   "id": "1612dc31-d63f-4e2f-b859-20eccc2b3300",
   "metadata": {
    "tags": []
   },
   "source": [
    "# Exploring OpenBible.info Data\n",
    "\n",
    "This dataset by Stephen Smith has a collection of topics and associated verses, and was initiated in 2007. The initial set was about 4000 topics based on completing the phrase \"What does the Bible say about...\"). After that:\n",
    "\n",
    "> I used the Yahoo Web Search API to get the top thirty webpages related to each topic and then extracted the verse references from each page.\n",
    "\n",
    "(This approach likely included some irrelevant verses: in theory the voting approach should mitigate this.)\n",
    "\n",
    "> This Bible is a mashup of the Yahoo! and ESV Bible web services. It searches the Internet for the topics that interest people, many of which you’d never find in a traditional topical Bible. Then it shows relevant verses.\n",
    "\n",
    "Because of the methodology for adding topics, this data might be most useful if combined with other, more curated topic inventories.\n",
    "\n",
    "On the resulting site, users are invited to \n",
    "- vote on the relevance of the verse to the topics\n",
    "- suggest other verses for a topic\n",
    "- suggest new topics\n",
    "\n",
    "> Since launching three weeks ago, people have voted up or down 3,000 verses and suggested 200 new verses, in addition to creating 500 new topics.\n",
    "\n",
    "The original site had a passage -> tag cloud feature that no longer appears to function.\n",
    "\n",
    "## Scoring\n",
    "\n",
    "The initial scores:\n",
    "\n",
    "> each page got one vote per unique verse—so two references to John 1:1 on the same page would only count as one vote. All verses that appeared on two or more webpages made it into the main TB index.\n",
    "\n",
    "(This suggests that any topic/passage pair which still has only two votes might be discardable.)\n",
    "\n",
    "> About 750 of the topics occurred in both the new TB and in Nave’s; every verse for each topic in Nave’s got an extra three votes in the new TB.\n",
    "\n",
    "* Initial release: [June « 2007 « OpenBible.info Blog](https://www.openbible.info/blog/2007/06/)\n",
    "* [Topical Bible Technical Notes « OpenBible.info Blog](https://www.openbible.info/blog/2007/07/topical-bible-technical-notes/)\n",
    "* Other blog posts on the category Topic: https://www.openbible.info/blog/category/topics/. This includes some interesting change-over-time analysis for some hot-button topics.\n",
    "\n",
    "## Duplicate Topics\n",
    "\n",
    "> Searching for a word will automatically add it.\n",
    "\n",
    "This means there's some duplication that should probably be collapsed, e.g. \n",
    "\n",
    "```\n",
    "Tatoos On The Body\n",
    "...\n",
    "Tattoo\n",
    "Tattooing\n",
    "Tattooing Your Body\n",
    "Tattoos\n",
    "Tattoos And Body Piercings\n",
    "Tattoos And Piercings\n",
    "Tattoos Body Piercings\n",
    "```\n",
    "\n",
    "## Updates\n",
    "\n",
    "Note this data is still updated weekly: this snapshot is from 2024-08-05. It might be interesting to compare against previous versions to see whether the data is still growing, and how. For example, the letter T currently has 734 entries: it had the same number of entries in 2014.\n",
    "\n",
    "The analysis below shows:\n",
    "* There are now 6700 unique topics. So clearly some de-duping and consolidation may be needed.\n",
    "* There is a \"fat head\" of topics with a vote count way above the mean"
   ]
  },
  {
   "cell_type": "code",
   "execution_count": 1,
   "id": "7dcb8c9d-2567-4f7d-acfe-b64ffb86d69a",
   "metadata": {},
   "outputs": [],
   "source": [
    "# Setup\n",
    "import pandas as pd\n",
    "pd.set_option('display.max_columns', 500)\n",
    "pd.set_option('display.width', 1000)\n",
    "\n",
    "from src.openbibleinfo import DATAPATH, reader\n",
    "rd = reader.Reader()"
   ]
  },
  {
   "cell_type": "code",
   "execution_count": 2,
   "id": "579d9762-d8c6-4b6e-8493-f9773802e956",
   "metadata": {},
   "outputs": [
    {
     "data": {
      "text/html": [
       "<div>\n",
       "<style scoped>\n",
       "    .dataframe tbody tr th:only-of-type {\n",
       "        vertical-align: middle;\n",
       "    }\n",
       "\n",
       "    .dataframe tbody tr th {\n",
       "        vertical-align: top;\n",
       "    }\n",
       "\n",
       "    .dataframe thead th {\n",
       "        text-align: right;\n",
       "    }\n",
       "</style>\n",
       "<table border=\"1\" class=\"dataframe\">\n",
       "  <thead>\n",
       "    <tr style=\"text-align: right;\">\n",
       "      <th></th>\n",
       "      <th>Topic</th>\n",
       "      <th>StartVerseId</th>\n",
       "      <th>EndVerseId</th>\n",
       "      <th>Votes</th>\n",
       "      <th>PassageLength</th>\n",
       "      <th>UsableRange</th>\n",
       "      <th>UsableReference</th>\n",
       "    </tr>\n",
       "  </thead>\n",
       "  <tbody>\n",
       "    <tr>\n",
       "      <th>0</th>\n",
       "      <td>10 commandments</td>\n",
       "      <td>02020001</td>\n",
       "      <td>02020026</td>\n",
       "      <td>291</td>\n",
       "      <td>26</td>\n",
       "      <td>True</td>\n",
       "      <td>True</td>\n",
       "    </tr>\n",
       "    <tr>\n",
       "      <th>1</th>\n",
       "      <td>10 commandments</td>\n",
       "      <td>48005014</td>\n",
       "      <td>&lt;NA&gt;</td>\n",
       "      <td>140</td>\n",
       "      <td>1</td>\n",
       "      <td>False</td>\n",
       "      <td>True</td>\n",
       "    </tr>\n",
       "    <tr>\n",
       "      <th>2</th>\n",
       "      <td>10 commandments</td>\n",
       "      <td>45013008</td>\n",
       "      <td>45013010</td>\n",
       "      <td>114</td>\n",
       "      <td>3</td>\n",
       "      <td>True</td>\n",
       "      <td>True</td>\n",
       "    </tr>\n",
       "    <tr>\n",
       "      <th>3</th>\n",
       "      <td>10 commandments</td>\n",
       "      <td>05004013</td>\n",
       "      <td>&lt;NA&gt;</td>\n",
       "      <td>101</td>\n",
       "      <td>1</td>\n",
       "      <td>False</td>\n",
       "      <td>True</td>\n",
       "    </tr>\n",
       "    <tr>\n",
       "      <th>4</th>\n",
       "      <td>10 commandments</td>\n",
       "      <td>02034028</td>\n",
       "      <td>&lt;NA&gt;</td>\n",
       "      <td>93</td>\n",
       "      <td>1</td>\n",
       "      <td>False</td>\n",
       "      <td>True</td>\n",
       "    </tr>\n",
       "  </tbody>\n",
       "</table>\n",
       "</div>"
      ],
      "text/plain": [
       "             Topic StartVerseId EndVerseId  Votes  PassageLength  UsableRange  UsableReference\n",
       "0  10 commandments     02020001   02020026    291             26         True             True\n",
       "1  10 commandments     48005014       <NA>    140              1        False             True\n",
       "2  10 commandments     45013008   45013010    114              3         True             True\n",
       "3  10 commandments     05004013       <NA>    101              1        False             True\n",
       "4  10 commandments     02034028       <NA>     93              1        False             True"
      ]
     },
     "execution_count": 2,
     "metadata": {},
     "output_type": "execute_result"
    }
   ],
   "source": [
    "# some passages are ranges (EXO 20:1-26), others a single verse (Gal 5:14)\n",
    "rd.df.head()"
   ]
  },
  {
   "cell_type": "code",
   "execution_count": 3,
   "id": "4e0b1b3a-0187-463d-bb24-5b541cb52323",
   "metadata": {
    "tags": []
   },
   "outputs": [
    {
     "name": "stdout",
     "output_type": "stream",
     "text": [
      "Number of uniq topics: \t     6713\n",
      "Number of rows: \t   465956\n",
      "Number of votes: \t 73692178\n"
     ]
    }
   ],
   "source": [
    "n_topics = len(rd.df.Topic.value_counts())\n",
    "n_records = len(rd.df)\n",
    "n_votes = rd.df.Votes.sum()\n",
    "print(f\"Number of uniq topics: \\t{n_topics:9}\")\n",
    "print(f\"Number of rows: \\t{n_records:9}\")\n",
    "print(f\"Number of votes: \\t{n_votes:9}\")"
   ]
  },
  {
   "cell_type": "markdown",
   "id": "c2ace2f1-19aa-48b1-8ff1-8413856663b8",
   "metadata": {},
   "source": [
    "## Expanding the Data: Passage Length\n",
    "\n",
    "Some verses have an `EndVerseId` value, indicating a range. This adds a `PassageLength` column. \n",
    "* The value is 1 if no `EndVerseId`\n",
    "* If the `EndVerseId` is in a different chapter, arbitrarily return length == 99. My code can't currently enumerate these verses, and potentially too long anyway.\n",
    "* If the `EndVerseId` is in a different book, return 999. These ranges seem way too long to be useful. There are 72 of them, some of them hot button topics. Less than 1/1000 votes. \n",
    "\n",
    "`UsableRange` is True if a range and length < 99. `UsableReference` is True if a single verse or `UsableRange` is True. "
   ]
  },
  {
   "cell_type": "code",
   "execution_count": 4,
   "id": "6d4cf3e4-94e9-4dae-a123-7102aec0220f",
   "metadata": {
    "tags": []
   },
   "outputs": [
    {
     "name": "stdout",
     "output_type": "stream",
     "text": [
      "8373 cross-chapter records\n",
      "0.95% of all votes\n"
     ]
    },
    {
     "data": {
      "text/plain": [
       "Topic\n",
       "islam               131\n",
       "being single        107\n",
       "hate                101\n",
       "abortion             96\n",
       "sports               90\n",
       "                   ... \n",
       "annoying people       1\n",
       "ankh                  1\n",
       "animal cruelty        1\n",
       "anger management      1\n",
       "666                   1\n",
       "Name: count, Length: 1235, dtype: Int64"
      ]
     },
     "execution_count": 4,
     "metadata": {},
     "output_type": "execute_result"
    }
   ],
   "source": [
    "# cross-chapter ranges\n",
    "ccrecords = rd.df[rd.df.PassageLength==99]\n",
    "print(f\"{len(ccrecords)} cross-chapter records\")\n",
    "print(f\"{(ccrecords.Votes.sum() / n_votes)*100:.2f}% of all votes\")\n",
    "ccrecords.Topic.value_counts()"
   ]
  },
  {
   "cell_type": "code",
   "execution_count": 5,
   "id": "dad0fb44-3c15-4793-b647-c5ab5a027866",
   "metadata": {},
   "outputs": [
    {
     "name": "stdout",
     "output_type": "stream",
     "text": [
      "0.005% of all votes\n"
     ]
    },
    {
     "data": {
      "text/plain": [
       "Topic\n",
       "islam                    7\n",
       "being single             6\n",
       "abortion                 6\n",
       "christmas                5\n",
       "video games              3\n",
       "                        ..\n",
       "violence                 1\n",
       "watching tv              1\n",
       "atheists                 1\n",
       "losing your salvation    1\n",
       "yoga                     1\n",
       "Name: count, Length: 72, dtype: Int64"
      ]
     },
     "execution_count": 5,
     "metadata": {},
     "output_type": "execute_result"
    }
   ],
   "source": [
    "# cross-book ranges: these will likely get dropped\n",
    "cbrecords = rd.df[rd.df.PassageLength==999]\n",
    "print(f\"{(cbrecords.Votes.sum() / n_votes)*100:.3f}% of all votes\")\n",
    "cbrecords.Topic.value_counts()"
   ]
  },
  {
   "cell_type": "code",
   "execution_count": 6,
   "id": "4519175c-670b-440f-a4b8-b4fb59235337",
   "metadata": {},
   "outputs": [
    {
     "name": "stdout",
     "output_type": "stream",
     "text": [
      "Number of uniq topics: \t     6712\n",
      "Number of rows: \t   457465\n",
      "Number of votes: \t 72988030\n"
     ]
    }
   ],
   "source": [
    "# topicsdf removes passages whose UsableRange < 99\n",
    "n_topics = len(rd.topicsdf.Topic.value_counts())\n",
    "n_records = len(rd.topicsdf)\n",
    "n_votes = rd.topicsdf.Votes.sum()\n",
    "print(f\"Number of uniq topics: \\t{n_topics:9}\")\n",
    "print(f\"Number of rows: \\t{n_records:9}\")\n",
    "print(f\"Number of votes: \\t{n_votes:9}\")"
   ]
  },
  {
   "cell_type": "markdown",
   "id": "587b11bd-318e-446a-9980-08fbf6f2070b",
   "metadata": {},
   "source": [
    "### Distribution of Passage Lengths\n",
    "\n",
    "This excludes cross-chapter and cross-book ranges. \n",
    "\n",
    "Looks like lengths <= 5 cover about 90% of the data. So perhaps enumerate and split votes up to that length, and otherwise treat as atomic (perhaps with a constant epsilon weight)? "
   ]
  },
  {
   "cell_type": "code",
   "execution_count": 7,
   "id": "84bd1236-a4dd-4743-8000-f85ef5aabe04",
   "metadata": {
    "tags": []
   },
   "outputs": [
    {
     "name": "stdout",
     "output_type": "stream",
     "text": [
      "Records with a 'good' PassageLength value: 457465 (100.00%)\n"
     ]
    },
    {
     "data": {
      "text/plain": [
       "PassageLength\n",
       "1      0.723061\n",
       "2      0.092969\n",
       "3      0.042412\n",
       "4      0.020555\n",
       "5      0.013761\n",
       "         ...   \n",
       "107    0.000002\n",
       "76     0.000002\n",
       "70     0.000002\n",
       "110    0.000002\n",
       "79     0.000002\n",
       "Name: proportion, Length: 80, dtype: float64"
      ]
     },
     "execution_count": 7,
     "metadata": {},
     "output_type": "execute_result"
    }
   ],
   "source": [
    "print(f\"Records with a 'good' PassageLength value: {len(rd.topicsdf)} ({(len(rd.topicsdf)/n_records)*100:.2f}%)\")\n",
    "rd.topicsdf.PassageLength.value_counts(normalize=True)"
   ]
  },
  {
   "cell_type": "markdown",
   "id": "67a75dfc-42bf-45cd-9671-f0bf8235696c",
   "metadata": {},
   "source": [
    "## Expanding the Data: aggregating intersecting references\n",
    "\n",
    "Topic references sometimes intersect for a topic: for example \"marrying a divorced woman\" has votes for MAT 5:31, 5:32, and the range 5:31-32 (among others). Combining these would significantly increase the VotesPercentage for this passage.\n",
    "\n",
    "In other cases there might be two ranges, one subsumed in the other (in this example, MAT 5:1-48 and MAT 5:21-48). Note the first reference (which has more votes) is the entire chapter. \n",
    "\n",
    "If we had a reasonable way to combine such references, that should sharpen the counts. Minimally, a single verse and a \"short\" range ought to be combinable: perhaps \"short\" here is PassageLength <= 3 or 5? \n",
    "\n",
    "The simplest initial step might be to combine single verses within a topic within an intersecting 2-verse range for that topic, allocating some portion of their votes: all? 0.75? 0.5? \n",
    "\n",
    "NOT YET ACCOMPLISHED."
   ]
  },
  {
   "cell_type": "code",
   "execution_count": 28,
   "id": "71f0e6a7-07ee-43e4-a746-a539b85f6215",
   "metadata": {
    "tags": []
   },
   "outputs": [
    {
     "data": {
      "text/html": [
       "<div>\n",
       "<style scoped>\n",
       "    .dataframe tbody tr th:only-of-type {\n",
       "        vertical-align: middle;\n",
       "    }\n",
       "\n",
       "    .dataframe tbody tr th {\n",
       "        vertical-align: top;\n",
       "    }\n",
       "\n",
       "    .dataframe thead th {\n",
       "        text-align: right;\n",
       "    }\n",
       "</style>\n",
       "<table border=\"1\" class=\"dataframe\">\n",
       "  <thead>\n",
       "    <tr style=\"text-align: right;\">\n",
       "      <th></th>\n",
       "      <th>Topic</th>\n",
       "      <th>StartVerseId</th>\n",
       "      <th>EndVerseId</th>\n",
       "      <th>Votes</th>\n",
       "      <th>PassageLength</th>\n",
       "      <th>UsableRange</th>\n",
       "      <th>UsableReference</th>\n",
       "      <th>VotesPercentage</th>\n",
       "    </tr>\n",
       "  </thead>\n",
       "  <tbody>\n",
       "    <tr>\n",
       "      <th>263852</th>\n",
       "      <td>marrying a divorced woman</td>\n",
       "      <td>40005032</td>\n",
       "      <td>&lt;NA&gt;</td>\n",
       "      <td>6240</td>\n",
       "      <td>1</td>\n",
       "      <td>False</td>\n",
       "      <td>True</td>\n",
       "      <td>0.028619</td>\n",
       "    </tr>\n",
       "    <tr>\n",
       "      <th>263857</th>\n",
       "      <td>marrying a divorced woman</td>\n",
       "      <td>40005031</td>\n",
       "      <td>40005032</td>\n",
       "      <td>4931</td>\n",
       "      <td>2</td>\n",
       "      <td>True</td>\n",
       "      <td>True</td>\n",
       "      <td>0.022616</td>\n",
       "    </tr>\n",
       "    <tr>\n",
       "      <th>263885</th>\n",
       "      <td>marrying a divorced woman</td>\n",
       "      <td>40005031</td>\n",
       "      <td>&lt;NA&gt;</td>\n",
       "      <td>1862</td>\n",
       "      <td>1</td>\n",
       "      <td>False</td>\n",
       "      <td>True</td>\n",
       "      <td>0.008540</td>\n",
       "    </tr>\n",
       "    <tr>\n",
       "      <th>263925</th>\n",
       "      <td>marrying a divorced woman</td>\n",
       "      <td>40005001</td>\n",
       "      <td>40005048</td>\n",
       "      <td>1033</td>\n",
       "      <td>48</td>\n",
       "      <td>True</td>\n",
       "      <td>True</td>\n",
       "      <td>0.004738</td>\n",
       "    </tr>\n",
       "    <tr>\n",
       "      <th>263927</th>\n",
       "      <td>marrying a divorced woman</td>\n",
       "      <td>40005028</td>\n",
       "      <td>&lt;NA&gt;</td>\n",
       "      <td>982</td>\n",
       "      <td>1</td>\n",
       "      <td>False</td>\n",
       "      <td>True</td>\n",
       "      <td>0.004504</td>\n",
       "    </tr>\n",
       "    <tr>\n",
       "      <th>263971</th>\n",
       "      <td>marrying a divorced woman</td>\n",
       "      <td>40005002</td>\n",
       "      <td>&lt;NA&gt;</td>\n",
       "      <td>289</td>\n",
       "      <td>1</td>\n",
       "      <td>False</td>\n",
       "      <td>True</td>\n",
       "      <td>0.001325</td>\n",
       "    </tr>\n",
       "    <tr>\n",
       "      <th>263976</th>\n",
       "      <td>marrying a divorced woman</td>\n",
       "      <td>40005004</td>\n",
       "      <td>&lt;NA&gt;</td>\n",
       "      <td>273</td>\n",
       "      <td>1</td>\n",
       "      <td>False</td>\n",
       "      <td>True</td>\n",
       "      <td>0.001252</td>\n",
       "    </tr>\n",
       "    <tr>\n",
       "      <th>263987</th>\n",
       "      <td>marrying a divorced woman</td>\n",
       "      <td>40005001</td>\n",
       "      <td>&lt;NA&gt;</td>\n",
       "      <td>216</td>\n",
       "      <td>1</td>\n",
       "      <td>False</td>\n",
       "      <td>True</td>\n",
       "      <td>0.000991</td>\n",
       "    </tr>\n",
       "    <tr>\n",
       "      <th>264002</th>\n",
       "      <td>marrying a divorced woman</td>\n",
       "      <td>40005005</td>\n",
       "      <td>&lt;NA&gt;</td>\n",
       "      <td>183</td>\n",
       "      <td>1</td>\n",
       "      <td>False</td>\n",
       "      <td>True</td>\n",
       "      <td>0.000839</td>\n",
       "    </tr>\n",
       "    <tr>\n",
       "      <th>264015</th>\n",
       "      <td>marrying a divorced woman</td>\n",
       "      <td>40005003</td>\n",
       "      <td>&lt;NA&gt;</td>\n",
       "      <td>150</td>\n",
       "      <td>1</td>\n",
       "      <td>False</td>\n",
       "      <td>True</td>\n",
       "      <td>0.000688</td>\n",
       "    </tr>\n",
       "    <tr>\n",
       "      <th>264103</th>\n",
       "      <td>marrying a divorced woman</td>\n",
       "      <td>40005027</td>\n",
       "      <td>40005028</td>\n",
       "      <td>46</td>\n",
       "      <td>2</td>\n",
       "      <td>True</td>\n",
       "      <td>True</td>\n",
       "      <td>0.000211</td>\n",
       "    </tr>\n",
       "    <tr>\n",
       "      <th>264146</th>\n",
       "      <td>marrying a divorced woman</td>\n",
       "      <td>40005006</td>\n",
       "      <td>&lt;NA&gt;</td>\n",
       "      <td>28</td>\n",
       "      <td>1</td>\n",
       "      <td>False</td>\n",
       "      <td>True</td>\n",
       "      <td>0.000128</td>\n",
       "    </tr>\n",
       "    <tr>\n",
       "      <th>264233</th>\n",
       "      <td>marrying a divorced woman</td>\n",
       "      <td>40005021</td>\n",
       "      <td>40005048</td>\n",
       "      <td>12</td>\n",
       "      <td>28</td>\n",
       "      <td>True</td>\n",
       "      <td>True</td>\n",
       "      <td>0.000055</td>\n",
       "    </tr>\n",
       "    <tr>\n",
       "      <th>264246</th>\n",
       "      <td>marrying a divorced woman</td>\n",
       "      <td>40005017</td>\n",
       "      <td>40005019</td>\n",
       "      <td>10</td>\n",
       "      <td>3</td>\n",
       "      <td>True</td>\n",
       "      <td>True</td>\n",
       "      <td>0.000046</td>\n",
       "    </tr>\n",
       "  </tbody>\n",
       "</table>\n",
       "</div>"
      ],
      "text/plain": [
       "                            Topic StartVerseId EndVerseId  Votes  PassageLength  UsableRange  UsableReference  VotesPercentage\n",
       "263852  marrying a divorced woman     40005032       <NA>   6240              1        False             True         0.028619\n",
       "263857  marrying a divorced woman     40005031   40005032   4931              2         True             True         0.022616\n",
       "263885  marrying a divorced woman     40005031       <NA>   1862              1        False             True         0.008540\n",
       "263925  marrying a divorced woman     40005001   40005048   1033             48         True             True         0.004738\n",
       "263927  marrying a divorced woman     40005028       <NA>    982              1        False             True         0.004504\n",
       "263971  marrying a divorced woman     40005002       <NA>    289              1        False             True         0.001325\n",
       "263976  marrying a divorced woman     40005004       <NA>    273              1        False             True         0.001252\n",
       "263987  marrying a divorced woman     40005001       <NA>    216              1        False             True         0.000991\n",
       "264002  marrying a divorced woman     40005005       <NA>    183              1        False             True         0.000839\n",
       "264015  marrying a divorced woman     40005003       <NA>    150              1        False             True         0.000688\n",
       "264103  marrying a divorced woman     40005027   40005028     46              2         True             True         0.000211\n",
       "264146  marrying a divorced woman     40005006       <NA>     28              1        False             True         0.000128\n",
       "264233  marrying a divorced woman     40005021   40005048     12             28         True             True         0.000055\n",
       "264246  marrying a divorced woman     40005017   40005019     10              3         True             True         0.000046"
      ]
     },
     "execution_count": 28,
     "metadata": {},
     "output_type": "execute_result"
    }
   ],
   "source": [
    "marryingdivorced = rd.topicsdf[rd.topicsdf.Topic == \"marrying a divorced woman\"]\n",
    "marryingdivorced[marryingdivorced.StartVerseId.str.startswith(\"40005\")]"
   ]
  },
  {
   "cell_type": "markdown",
   "id": "476c7794-e6c4-4c63-952d-b2e5197d6fef",
   "metadata": {
    "tags": []
   },
   "source": [
    "## \"Top\" Topics\n",
    "\n",
    "From here onward, we only consider records where `UsableReference` is True. So either a range within a chapter, or a single verse. \n",
    "\n",
    "A TopicRecord combines a Topic label, a set of passages, and a count of votes. \n",
    "* `TopicPassageCount` is the count of passages for a topic\n",
    "* `TopicVotesSum` are the sum of votes for a topic\n",
    "* `MeanPassageVotes` is `TopicVotesSum`/`TopicPassageCount`\n"
   ]
  },
  {
   "cell_type": "code",
   "execution_count": 8,
   "id": "e89e85fd-daa9-4ea6-8958-d9c3a0b15cdb",
   "metadata": {
    "tags": []
   },
   "outputs": [
    {
     "data": {
      "text/html": [
       "<div>\n",
       "<style scoped>\n",
       "    .dataframe tbody tr th:only-of-type {\n",
       "        vertical-align: middle;\n",
       "    }\n",
       "\n",
       "    .dataframe tbody tr th {\n",
       "        vertical-align: top;\n",
       "    }\n",
       "\n",
       "    .dataframe thead th {\n",
       "        text-align: right;\n",
       "    }\n",
       "</style>\n",
       "<table border=\"1\" class=\"dataframe\">\n",
       "  <thead>\n",
       "    <tr style=\"text-align: right;\">\n",
       "      <th></th>\n",
       "      <th>Topic</th>\n",
       "      <th>TopicPassageCount</th>\n",
       "      <th>TopicVotesSum</th>\n",
       "      <th>MeanPassageVotes</th>\n",
       "    </tr>\n",
       "  </thead>\n",
       "  <tbody>\n",
       "    <tr>\n",
       "      <th>2785</th>\n",
       "      <td>helping others</td>\n",
       "      <td>592</td>\n",
       "      <td>829527</td>\n",
       "      <td>1401.228041</td>\n",
       "    </tr>\n",
       "    <tr>\n",
       "      <th>3027</th>\n",
       "      <td>immigration</td>\n",
       "      <td>364</td>\n",
       "      <td>430199</td>\n",
       "      <td>1181.865385</td>\n",
       "    </tr>\n",
       "    <tr>\n",
       "      <th>1812</th>\n",
       "      <td>eating pork</td>\n",
       "      <td>410</td>\n",
       "      <td>464953</td>\n",
       "      <td>1134.031707</td>\n",
       "    </tr>\n",
       "    <tr>\n",
       "      <th>5351</th>\n",
       "      <td>sodomy</td>\n",
       "      <td>476</td>\n",
       "      <td>478422</td>\n",
       "      <td>1005.088235</td>\n",
       "    </tr>\n",
       "    <tr>\n",
       "      <th>489</th>\n",
       "      <td>being born again</td>\n",
       "      <td>261</td>\n",
       "      <td>261267</td>\n",
       "      <td>1001.022989</td>\n",
       "    </tr>\n",
       "    <tr>\n",
       "      <th>4528</th>\n",
       "      <td>power of words</td>\n",
       "      <td>743</td>\n",
       "      <td>709295</td>\n",
       "      <td>954.636608</td>\n",
       "    </tr>\n",
       "    <tr>\n",
       "      <th>1338</th>\n",
       "      <td>covenant</td>\n",
       "      <td>322</td>\n",
       "      <td>294071</td>\n",
       "      <td>913.263975</td>\n",
       "    </tr>\n",
       "    <tr>\n",
       "      <th>2866</th>\n",
       "      <td>homosexuality</td>\n",
       "      <td>317</td>\n",
       "      <td>288815</td>\n",
       "      <td>911.088328</td>\n",
       "    </tr>\n",
       "    <tr>\n",
       "      <th>5316</th>\n",
       "      <td>slavery</td>\n",
       "      <td>539</td>\n",
       "      <td>484235</td>\n",
       "      <td>898.395176</td>\n",
       "    </tr>\n",
       "    <tr>\n",
       "      <th>2577</th>\n",
       "      <td>gossip</td>\n",
       "      <td>419</td>\n",
       "      <td>374752</td>\n",
       "      <td>894.396181</td>\n",
       "    </tr>\n",
       "  </tbody>\n",
       "</table>\n",
       "</div>"
      ],
      "text/plain": [
       "                 Topic  TopicPassageCount  TopicVotesSum  MeanPassageVotes\n",
       "2785    helping others                592         829527       1401.228041\n",
       "3027       immigration                364         430199       1181.865385\n",
       "1812       eating pork                410         464953       1134.031707\n",
       "5351            sodomy                476         478422       1005.088235\n",
       "489   being born again                261         261267       1001.022989\n",
       "4528    power of words                743         709295        954.636608\n",
       "1338          covenant                322         294071        913.263975\n",
       "2866     homosexuality                317         288815        911.088328\n",
       "5316           slavery                539         484235        898.395176\n",
       "2577            gossip                419         374752        894.396181"
      ]
     },
     "execution_count": 8,
     "metadata": {},
     "output_type": "execute_result"
    }
   ],
   "source": [
    "# 55 is the 80% value for MeanPassageVotes across rd.topicsdf\n",
    "# so an approximation for \"high number of votes per passage\"\n",
    "#toptopics = rd.top_topics(threshold=55)\n",
    "#toptopics.sort_values('MeanPassageVotes', ascending=False).head(10)\n",
    "rd.toptopics.head(10)"
   ]
  },
  {
   "cell_type": "code",
   "execution_count": 9,
   "id": "86b18c43-1f0c-43a4-bfa0-44de934dc1b8",
   "metadata": {
    "tags": []
   },
   "outputs": [
    {
     "data": {
      "text/html": [
       "<div>\n",
       "<style scoped>\n",
       "    .dataframe tbody tr th:only-of-type {\n",
       "        vertical-align: middle;\n",
       "    }\n",
       "\n",
       "    .dataframe tbody tr th {\n",
       "        vertical-align: top;\n",
       "    }\n",
       "\n",
       "    .dataframe thead th {\n",
       "        text-align: right;\n",
       "    }\n",
       "</style>\n",
       "<table border=\"1\" class=\"dataframe\">\n",
       "  <thead>\n",
       "    <tr style=\"text-align: right;\">\n",
       "      <th></th>\n",
       "      <th>TopicPassageCount</th>\n",
       "      <th>TopicVotesSum</th>\n",
       "      <th>MeanPassageVotes</th>\n",
       "    </tr>\n",
       "  </thead>\n",
       "  <tbody>\n",
       "    <tr>\n",
       "      <th>count</th>\n",
       "      <td>1378.000000</td>\n",
       "      <td>1378.000000</td>\n",
       "      <td>1378.000000</td>\n",
       "    </tr>\n",
       "    <tr>\n",
       "      <th>mean</th>\n",
       "      <td>185.872279</td>\n",
       "      <td>48137.674165</td>\n",
       "      <td>178.962464</td>\n",
       "    </tr>\n",
       "    <tr>\n",
       "      <th>std</th>\n",
       "      <td>131.987053</td>\n",
       "      <td>83964.933039</td>\n",
       "      <td>175.793107</td>\n",
       "    </tr>\n",
       "    <tr>\n",
       "      <th>min</th>\n",
       "      <td>1.000000</td>\n",
       "      <td>66.000000</td>\n",
       "      <td>55.028571</td>\n",
       "    </tr>\n",
       "    <tr>\n",
       "      <th>25%</th>\n",
       "      <td>107.000000</td>\n",
       "      <td>7504.250000</td>\n",
       "      <td>66.921060</td>\n",
       "    </tr>\n",
       "    <tr>\n",
       "      <th>50%</th>\n",
       "      <td>156.000000</td>\n",
       "      <td>15163.500000</td>\n",
       "      <td>96.593184</td>\n",
       "    </tr>\n",
       "    <tr>\n",
       "      <th>75%</th>\n",
       "      <td>236.000000</td>\n",
       "      <td>50480.250000</td>\n",
       "      <td>220.169807</td>\n",
       "    </tr>\n",
       "    <tr>\n",
       "      <th>max</th>\n",
       "      <td>1022.000000</td>\n",
       "      <td>829527.000000</td>\n",
       "      <td>1401.228041</td>\n",
       "    </tr>\n",
       "  </tbody>\n",
       "</table>\n",
       "</div>"
      ],
      "text/plain": [
       "       TopicPassageCount  TopicVotesSum  MeanPassageVotes\n",
       "count        1378.000000    1378.000000       1378.000000\n",
       "mean          185.872279   48137.674165        178.962464\n",
       "std           131.987053   83964.933039        175.793107\n",
       "min             1.000000      66.000000         55.028571\n",
       "25%           107.000000    7504.250000         66.921060\n",
       "50%           156.000000   15163.500000         96.593184\n",
       "75%           236.000000   50480.250000        220.169807\n",
       "max          1022.000000  829527.000000       1401.228041"
      ]
     },
     "execution_count": 9,
     "metadata": {},
     "output_type": "execute_result"
    }
   ],
   "source": [
    "# the median TopicPassageCount value is 161: that still seems like way too many\n",
    "rd.toptopics.describe()"
   ]
  },
  {
   "cell_type": "code",
   "execution_count": 10,
   "id": "beaf7d54-e573-4bac-bb1f-9e9f0c07ac02",
   "metadata": {
    "tags": []
   },
   "outputs": [
    {
     "data": {
      "text/html": [
       "<div>\n",
       "<style scoped>\n",
       "    .dataframe tbody tr th:only-of-type {\n",
       "        vertical-align: middle;\n",
       "    }\n",
       "\n",
       "    .dataframe tbody tr th {\n",
       "        vertical-align: top;\n",
       "    }\n",
       "\n",
       "    .dataframe thead th {\n",
       "        text-align: right;\n",
       "    }\n",
       "</style>\n",
       "<table border=\"1\" class=\"dataframe\">\n",
       "  <thead>\n",
       "    <tr style=\"text-align: right;\">\n",
       "      <th></th>\n",
       "      <th>Topic</th>\n",
       "      <th>TopicPassageCount</th>\n",
       "      <th>TopicVotesSum</th>\n",
       "      <th>MeanPassageVotes</th>\n",
       "    </tr>\n",
       "  </thead>\n",
       "  <tbody>\n",
       "    <tr>\n",
       "      <th>3285</th>\n",
       "      <td>kabzeel</td>\n",
       "      <td>4</td>\n",
       "      <td>657</td>\n",
       "      <td>164.250000</td>\n",
       "    </tr>\n",
       "    <tr>\n",
       "      <th>5257</th>\n",
       "      <td>shrimp</td>\n",
       "      <td>3</td>\n",
       "      <td>384</td>\n",
       "      <td>128.000000</td>\n",
       "    </tr>\n",
       "    <tr>\n",
       "      <th>2603</th>\n",
       "      <td>gray hair</td>\n",
       "      <td>8</td>\n",
       "      <td>974</td>\n",
       "      <td>121.750000</td>\n",
       "    </tr>\n",
       "    <tr>\n",
       "      <th>4110</th>\n",
       "      <td>nose piercings</td>\n",
       "      <td>6</td>\n",
       "      <td>677</td>\n",
       "      <td>112.833333</td>\n",
       "    </tr>\n",
       "    <tr>\n",
       "      <th>976</th>\n",
       "      <td>changing</td>\n",
       "      <td>1</td>\n",
       "      <td>112</td>\n",
       "      <td>112.000000</td>\n",
       "    </tr>\n",
       "  </tbody>\n",
       "</table>\n",
       "</div>"
      ],
      "text/plain": [
       "               Topic  TopicPassageCount  TopicVotesSum  MeanPassageVotes\n",
       "3285         kabzeel                  4            657        164.250000\n",
       "5257          shrimp                  3            384        128.000000\n",
       "2603       gray hair                  8            974        121.750000\n",
       "4110  nose piercings                  6            677        112.833333\n",
       "976         changing                  1            112        112.000000"
      ]
     },
     "execution_count": 10,
     "metadata": {},
     "output_type": "execute_result"
    }
   ],
   "source": [
    "# but not all \"toptopics\" seem \"top\"\n",
    "rd.toptopics[rd.toptopics.TopicVotesSum < 1000].head()"
   ]
  },
  {
   "cell_type": "code",
   "execution_count": 11,
   "id": "c80cde30-bfd7-4f8e-aa4f-bafe5abd64c0",
   "metadata": {
    "tags": []
   },
   "outputs": [
    {
     "data": {
      "text/html": [
       "<div>\n",
       "<style scoped>\n",
       "    .dataframe tbody tr th:only-of-type {\n",
       "        vertical-align: middle;\n",
       "    }\n",
       "\n",
       "    .dataframe tbody tr th {\n",
       "        vertical-align: top;\n",
       "    }\n",
       "\n",
       "    .dataframe thead th {\n",
       "        text-align: right;\n",
       "    }\n",
       "</style>\n",
       "<table border=\"1\" class=\"dataframe\">\n",
       "  <thead>\n",
       "    <tr style=\"text-align: right;\">\n",
       "      <th></th>\n",
       "      <th>Topic</th>\n",
       "      <th>TopicPassageCount</th>\n",
       "      <th>TopicVotesSum</th>\n",
       "      <th>MeanPassageVotes</th>\n",
       "    </tr>\n",
       "  </thead>\n",
       "  <tbody>\n",
       "    <tr>\n",
       "      <th>1397</th>\n",
       "      <td>cursing</td>\n",
       "      <td>175</td>\n",
       "      <td>9672</td>\n",
       "      <td>55.268571</td>\n",
       "    </tr>\n",
       "    <tr>\n",
       "      <th>1263</th>\n",
       "      <td>confronting sins</td>\n",
       "      <td>173</td>\n",
       "      <td>9552</td>\n",
       "      <td>55.213873</td>\n",
       "    </tr>\n",
       "    <tr>\n",
       "      <th>4616</th>\n",
       "      <td>preventing conflict</td>\n",
       "      <td>189</td>\n",
       "      <td>10431</td>\n",
       "      <td>55.190476</td>\n",
       "    </tr>\n",
       "    <tr>\n",
       "      <th>3300</th>\n",
       "      <td>keeping promises</td>\n",
       "      <td>158</td>\n",
       "      <td>8718</td>\n",
       "      <td>55.177215</td>\n",
       "    </tr>\n",
       "    <tr>\n",
       "      <th>170</th>\n",
       "      <td>angels</td>\n",
       "      <td>189</td>\n",
       "      <td>10426</td>\n",
       "      <td>55.164021</td>\n",
       "    </tr>\n",
       "  </tbody>\n",
       "</table>\n",
       "</div>"
      ],
      "text/plain": [
       "                    Topic  TopicPassageCount  TopicVotesSum  MeanPassageVotes\n",
       "1397              cursing                175           9672         55.268571\n",
       "1263     confronting sins                173           9552         55.213873\n",
       "4616  preventing conflict                189          10431         55.190476\n",
       "3300     keeping promises                158           8718         55.177215\n",
       "170                angels                189          10426         55.164021"
      ]
     },
     "execution_count": 11,
     "metadata": {},
     "output_type": "execute_result"
    }
   ],
   "source": [
    "# top 50% by TopicPassageCount, looking at the bottom\n",
    "rd.toptopics[rd.toptopics.TopicPassageCount >= 156].tail()"
   ]
  },
  {
   "cell_type": "code",
   "execution_count": 12,
   "id": "bad4c1ff-300e-4c98-9bcc-eba0f6103f31",
   "metadata": {
    "tags": []
   },
   "outputs": [
    {
     "data": {
      "text/html": [
       "<div>\n",
       "<style scoped>\n",
       "    .dataframe tbody tr th:only-of-type {\n",
       "        vertical-align: middle;\n",
       "    }\n",
       "\n",
       "    .dataframe tbody tr th {\n",
       "        vertical-align: top;\n",
       "    }\n",
       "\n",
       "    .dataframe thead th {\n",
       "        text-align: right;\n",
       "    }\n",
       "</style>\n",
       "<table border=\"1\" class=\"dataframe\">\n",
       "  <thead>\n",
       "    <tr style=\"text-align: right;\">\n",
       "      <th></th>\n",
       "      <th>Topic</th>\n",
       "      <th>StartVerseId</th>\n",
       "      <th>EndVerseId</th>\n",
       "      <th>Votes</th>\n",
       "      <th>PassageLength</th>\n",
       "      <th>UsableRange</th>\n",
       "      <th>UsableReference</th>\n",
       "    </tr>\n",
       "  </thead>\n",
       "  <tbody>\n",
       "    <tr>\n",
       "      <th>210840</th>\n",
       "      <td>immigration</td>\n",
       "      <td>03019033</td>\n",
       "      <td>03019034</td>\n",
       "      <td>19080</td>\n",
       "      <td>2</td>\n",
       "      <td>True</td>\n",
       "      <td>True</td>\n",
       "    </tr>\n",
       "    <tr>\n",
       "      <th>210841</th>\n",
       "      <td>immigration</td>\n",
       "      <td>02022021</td>\n",
       "      <td>&lt;NA&gt;</td>\n",
       "      <td>12943</td>\n",
       "      <td>1</td>\n",
       "      <td>False</td>\n",
       "      <td>True</td>\n",
       "    </tr>\n",
       "    <tr>\n",
       "      <th>210842</th>\n",
       "      <td>immigration</td>\n",
       "      <td>02023009</td>\n",
       "      <td>&lt;NA&gt;</td>\n",
       "      <td>10867</td>\n",
       "      <td>1</td>\n",
       "      <td>False</td>\n",
       "      <td>True</td>\n",
       "    </tr>\n",
       "    <tr>\n",
       "      <th>210843</th>\n",
       "      <td>immigration</td>\n",
       "      <td>40025035</td>\n",
       "      <td>&lt;NA&gt;</td>\n",
       "      <td>10510</td>\n",
       "      <td>1</td>\n",
       "      <td>False</td>\n",
       "      <td>True</td>\n",
       "    </tr>\n",
       "    <tr>\n",
       "      <th>210844</th>\n",
       "      <td>immigration</td>\n",
       "      <td>05027019</td>\n",
       "      <td>&lt;NA&gt;</td>\n",
       "      <td>10020</td>\n",
       "      <td>1</td>\n",
       "      <td>False</td>\n",
       "      <td>True</td>\n",
       "    </tr>\n",
       "    <tr>\n",
       "      <th>...</th>\n",
       "      <td>...</td>\n",
       "      <td>...</td>\n",
       "      <td>...</td>\n",
       "      <td>...</td>\n",
       "      <td>...</td>\n",
       "      <td>...</td>\n",
       "      <td>...</td>\n",
       "    </tr>\n",
       "    <tr>\n",
       "      <th>211202</th>\n",
       "      <td>immigration</td>\n",
       "      <td>51004001</td>\n",
       "      <td>51004018</td>\n",
       "      <td>10</td>\n",
       "      <td>18</td>\n",
       "      <td>True</td>\n",
       "      <td>True</td>\n",
       "    </tr>\n",
       "    <tr>\n",
       "      <th>211203</th>\n",
       "      <td>immigration</td>\n",
       "      <td>24029011</td>\n",
       "      <td>&lt;NA&gt;</td>\n",
       "      <td>10</td>\n",
       "      <td>1</td>\n",
       "      <td>False</td>\n",
       "      <td>True</td>\n",
       "    </tr>\n",
       "    <tr>\n",
       "      <th>211204</th>\n",
       "      <td>immigration</td>\n",
       "      <td>05023002</td>\n",
       "      <td>&lt;NA&gt;</td>\n",
       "      <td>10</td>\n",
       "      <td>1</td>\n",
       "      <td>False</td>\n",
       "      <td>True</td>\n",
       "    </tr>\n",
       "    <tr>\n",
       "      <th>211205</th>\n",
       "      <td>immigration</td>\n",
       "      <td>03024016</td>\n",
       "      <td>03024022</td>\n",
       "      <td>10</td>\n",
       "      <td>7</td>\n",
       "      <td>True</td>\n",
       "      <td>True</td>\n",
       "    </tr>\n",
       "    <tr>\n",
       "      <th>211206</th>\n",
       "      <td>immigration</td>\n",
       "      <td>46012012</td>\n",
       "      <td>46012014</td>\n",
       "      <td>10</td>\n",
       "      <td>3</td>\n",
       "      <td>True</td>\n",
       "      <td>True</td>\n",
       "    </tr>\n",
       "  </tbody>\n",
       "</table>\n",
       "<p>364 rows × 7 columns</p>\n",
       "</div>"
      ],
      "text/plain": [
       "              Topic StartVerseId EndVerseId  Votes  PassageLength  UsableRange  UsableReference\n",
       "210840  immigration     03019033   03019034  19080              2         True             True\n",
       "210841  immigration     02022021       <NA>  12943              1        False             True\n",
       "210842  immigration     02023009       <NA>  10867              1        False             True\n",
       "210843  immigration     40025035       <NA>  10510              1        False             True\n",
       "210844  immigration     05027019       <NA>  10020              1        False             True\n",
       "...             ...          ...        ...    ...            ...          ...              ...\n",
       "211202  immigration     51004001   51004018     10             18         True             True\n",
       "211203  immigration     24029011       <NA>     10              1        False             True\n",
       "211204  immigration     05023002       <NA>     10              1        False             True\n",
       "211205  immigration     03024016   03024022     10              7         True             True\n",
       "211206  immigration     46012012   46012014     10              3         True             True\n",
       "\n",
       "[364 rows x 7 columns]"
      ]
     },
     "execution_count": 12,
     "metadata": {},
     "output_type": "execute_result"
    }
   ],
   "source": [
    "# we might further filter rd.topicsdf to the top n passages for each topic in toptopics.Topic\n",
    "# we could also choose a higher threshold for top_topics()\n",
    "#rd.topicsdf[rd.topicsdf.Topic == \"love one another\"]\n",
    "rd.topicsdf[rd.topicsdf.Topic == \"immigration\"]"
   ]
  },
  {
   "cell_type": "markdown",
   "id": "bad40026-7dde-4aee-9fc8-530fae1f2f18",
   "metadata": {},
   "source": [
    "### Top Passages for Top Topics\n",
    "\n",
    "For rd.toptopics collect the verses whose \n",
    "`n_votes` is the total number of votes. "
   ]
  },
  {
   "cell_type": "markdown",
   "id": "906d41cc-d1d9-45c8-8956-4fef54289805",
   "metadata": {},
   "source": [
    "### Quality Score\n",
    "\n",
    "Stephen measured quality in topic-scores.txt as \"percentage of votes for the passage\". This is done here with `passage_probability()`, only computed for toptopics. "
   ]
  },
  {
   "cell_type": "code",
   "execution_count": 13,
   "id": "7b68cf32-b488-4380-bef5-b4532efb8a7b",
   "metadata": {
    "tags": []
   },
   "outputs": [
    {
     "name": "stderr",
     "output_type": "stream",
     "text": [
      "/var/folders/40/916hyvjs6cxgs7j_l2tp9bv00000gn/T/ipykernel_19025/1102643761.py:7: SettingWithCopyWarning: \n",
      "A value is trying to be set on a copy of a slice from a DataFrame.\n",
      "Try using .loc[row_indexer,col_indexer] = value instead\n",
      "\n",
      "See the caveats in the documentation: https://pandas.pydata.org/pandas-docs/stable/user_guide/indexing.html#returning-a-view-versus-a-copy\n",
      "  rd.topicsdf[\"VotesPercentage\"] = [prob for tup in rd.topicsdf.itertuples()\n"
     ]
    }
   ],
   "source": [
    "# compute across all topics: this takes a few minutes\n",
    "#rd.topicsdf[\"VotesPercentage\"] = rd.topicsdf.apply(rd.passage_probability, axis=1)\n",
    "# this approach seems equally slow and produces the same warningb\n",
    "#rd.topicsdf[\"VotesPercentage\"] = rd.topicsdf.apply(rd.passage_probability2, axis=1)\n",
    "# not sure how to address the warning this produces\n",
    "# this approach seems faster: still produces the SettingWithCopyWarning warning though\n",
    "rd.topicsdf[\"VotesPercentage\"] = [prob for tup in rd.topicsdf.itertuples()\n",
    "                                  if (topic := tup.Topic)\n",
    "                                  if (votesum := rd.topicvotesum.loc[topic].Votes)\n",
    "                                  if (prob := int(tup.Votes)/votesum)]"
   ]
  },
  {
   "cell_type": "code",
   "execution_count": 14,
   "id": "264e56cf-a3f4-4c93-862e-5bb328d7d2f8",
   "metadata": {
    "tags": []
   },
   "outputs": [
    {
     "data": {
      "text/html": [
       "<div>\n",
       "<style scoped>\n",
       "    .dataframe tbody tr th:only-of-type {\n",
       "        vertical-align: middle;\n",
       "    }\n",
       "\n",
       "    .dataframe tbody tr th {\n",
       "        vertical-align: top;\n",
       "    }\n",
       "\n",
       "    .dataframe thead th {\n",
       "        text-align: right;\n",
       "    }\n",
       "</style>\n",
       "<table border=\"1\" class=\"dataframe\">\n",
       "  <thead>\n",
       "    <tr style=\"text-align: right;\">\n",
       "      <th></th>\n",
       "      <th>Topic</th>\n",
       "      <th>StartVerseId</th>\n",
       "      <th>EndVerseId</th>\n",
       "      <th>Votes</th>\n",
       "      <th>PassageLength</th>\n",
       "      <th>UsableRange</th>\n",
       "      <th>UsableReference</th>\n",
       "      <th>VotesPercentage</th>\n",
       "    </tr>\n",
       "  </thead>\n",
       "  <tbody>\n",
       "    <tr>\n",
       "      <th>0</th>\n",
       "      <td>10 commandments</td>\n",
       "      <td>02020001</td>\n",
       "      <td>02020026</td>\n",
       "      <td>291</td>\n",
       "      <td>26</td>\n",
       "      <td>True</td>\n",
       "      <td>True</td>\n",
       "      <td>0.093539</td>\n",
       "    </tr>\n",
       "    <tr>\n",
       "      <th>1</th>\n",
       "      <td>10 commandments</td>\n",
       "      <td>48005014</td>\n",
       "      <td>&lt;NA&gt;</td>\n",
       "      <td>140</td>\n",
       "      <td>1</td>\n",
       "      <td>False</td>\n",
       "      <td>True</td>\n",
       "      <td>0.045002</td>\n",
       "    </tr>\n",
       "    <tr>\n",
       "      <th>2</th>\n",
       "      <td>10 commandments</td>\n",
       "      <td>45013008</td>\n",
       "      <td>45013010</td>\n",
       "      <td>114</td>\n",
       "      <td>3</td>\n",
       "      <td>True</td>\n",
       "      <td>True</td>\n",
       "      <td>0.036644</td>\n",
       "    </tr>\n",
       "    <tr>\n",
       "      <th>3</th>\n",
       "      <td>10 commandments</td>\n",
       "      <td>05004013</td>\n",
       "      <td>&lt;NA&gt;</td>\n",
       "      <td>101</td>\n",
       "      <td>1</td>\n",
       "      <td>False</td>\n",
       "      <td>True</td>\n",
       "      <td>0.032465</td>\n",
       "    </tr>\n",
       "    <tr>\n",
       "      <th>4</th>\n",
       "      <td>10 commandments</td>\n",
       "      <td>02034028</td>\n",
       "      <td>&lt;NA&gt;</td>\n",
       "      <td>93</td>\n",
       "      <td>1</td>\n",
       "      <td>False</td>\n",
       "      <td>True</td>\n",
       "      <td>0.029894</td>\n",
       "    </tr>\n",
       "  </tbody>\n",
       "</table>\n",
       "</div>"
      ],
      "text/plain": [
       "             Topic StartVerseId EndVerseId  Votes  PassageLength  UsableRange  UsableReference  VotesPercentage\n",
       "0  10 commandments     02020001   02020026    291             26         True             True         0.093539\n",
       "1  10 commandments     48005014       <NA>    140              1        False             True         0.045002\n",
       "2  10 commandments     45013008   45013010    114              3         True             True         0.036644\n",
       "3  10 commandments     05004013       <NA>    101              1        False             True         0.032465\n",
       "4  10 commandments     02034028       <NA>     93              1        False             True         0.029894"
      ]
     },
     "execution_count": 14,
     "metadata": {},
     "output_type": "execute_result"
    }
   ],
   "source": [
    "rd.topicsdf.head()"
   ]
  },
  {
   "cell_type": "code",
   "execution_count": 17,
   "id": "140710cc-ca22-48ff-b2d5-e6f9df85db17",
   "metadata": {
    "tags": []
   },
   "outputs": [
    {
     "data": {
      "text/plain": [
       "count    457465.000000\n",
       "mean          0.014672\n",
       "std           0.044672\n",
       "min           0.000012\n",
       "25%           0.001429\n",
       "50%           0.005252\n",
       "75%           0.011681\n",
       "max           1.000000\n",
       "Name: VotesPercentage, dtype: float64"
      ]
     },
     "execution_count": 17,
     "metadata": {},
     "output_type": "execute_result"
    }
   ],
   "source": [
    "# what's the distribution of VotesPercentage values?\n",
    "rd.topicsdf.VotesPercentage.describe()"
   ]
  },
  {
   "cell_type": "code",
   "execution_count": 19,
   "id": "2aeed5e0-9c2c-4dc3-81ca-1eba3462f276",
   "metadata": {
    "tags": []
   },
   "outputs": [
    {
     "name": "stdout",
     "output_type": "stream",
     "text": [
      "All rows: 131\n"
     ]
    },
    {
     "data": {
      "text/html": [
       "<div>\n",
       "<style scoped>\n",
       "    .dataframe tbody tr th:only-of-type {\n",
       "        vertical-align: middle;\n",
       "    }\n",
       "\n",
       "    .dataframe tbody tr th {\n",
       "        vertical-align: top;\n",
       "    }\n",
       "\n",
       "    .dataframe thead th {\n",
       "        text-align: right;\n",
       "    }\n",
       "</style>\n",
       "<table border=\"1\" class=\"dataframe\">\n",
       "  <thead>\n",
       "    <tr style=\"text-align: right;\">\n",
       "      <th></th>\n",
       "      <th>Topic</th>\n",
       "      <th>StartVerseId</th>\n",
       "      <th>EndVerseId</th>\n",
       "      <th>Votes</th>\n",
       "      <th>PassageLength</th>\n",
       "      <th>UsableRange</th>\n",
       "      <th>UsableReference</th>\n",
       "      <th>VotesPercentage</th>\n",
       "    </tr>\n",
       "  </thead>\n",
       "  <tbody>\n",
       "    <tr>\n",
       "      <th>8815</th>\n",
       "      <td>alcohol</td>\n",
       "      <td>49005018</td>\n",
       "      <td>&lt;NA&gt;</td>\n",
       "      <td>603</td>\n",
       "      <td>1</td>\n",
       "      <td>False</td>\n",
       "      <td>True</td>\n",
       "      <td>0.052001</td>\n",
       "    </tr>\n",
       "    <tr>\n",
       "      <th>8816</th>\n",
       "      <td>alcohol</td>\n",
       "      <td>20020001</td>\n",
       "      <td>&lt;NA&gt;</td>\n",
       "      <td>510</td>\n",
       "      <td>1</td>\n",
       "      <td>False</td>\n",
       "      <td>True</td>\n",
       "      <td>0.043981</td>\n",
       "    </tr>\n",
       "    <tr>\n",
       "      <th>8817</th>\n",
       "      <td>alcohol</td>\n",
       "      <td>54005023</td>\n",
       "      <td>&lt;NA&gt;</td>\n",
       "      <td>379</td>\n",
       "      <td>1</td>\n",
       "      <td>False</td>\n",
       "      <td>True</td>\n",
       "      <td>0.032684</td>\n",
       "    </tr>\n",
       "    <tr>\n",
       "      <th>8818</th>\n",
       "      <td>alcohol</td>\n",
       "      <td>20023029</td>\n",
       "      <td>20023035</td>\n",
       "      <td>326</td>\n",
       "      <td>7</td>\n",
       "      <td>True</td>\n",
       "      <td>True</td>\n",
       "      <td>0.028113</td>\n",
       "    </tr>\n",
       "    <tr>\n",
       "      <th>8819</th>\n",
       "      <td>alcohol</td>\n",
       "      <td>45014021</td>\n",
       "      <td>&lt;NA&gt;</td>\n",
       "      <td>310</td>\n",
       "      <td>1</td>\n",
       "      <td>False</td>\n",
       "      <td>True</td>\n",
       "      <td>0.026733</td>\n",
       "    </tr>\n",
       "    <tr>\n",
       "      <th>8820</th>\n",
       "      <td>alcohol</td>\n",
       "      <td>46006009</td>\n",
       "      <td>46006011</td>\n",
       "      <td>288</td>\n",
       "      <td>3</td>\n",
       "      <td>True</td>\n",
       "      <td>True</td>\n",
       "      <td>0.024836</td>\n",
       "    </tr>\n",
       "    <tr>\n",
       "      <th>8821</th>\n",
       "      <td>alcohol</td>\n",
       "      <td>23005011</td>\n",
       "      <td>&lt;NA&gt;</td>\n",
       "      <td>281</td>\n",
       "      <td>1</td>\n",
       "      <td>False</td>\n",
       "      <td>True</td>\n",
       "      <td>0.024232</td>\n",
       "    </tr>\n",
       "    <tr>\n",
       "      <th>8822</th>\n",
       "      <td>alcohol</td>\n",
       "      <td>23005022</td>\n",
       "      <td>&lt;NA&gt;</td>\n",
       "      <td>240</td>\n",
       "      <td>1</td>\n",
       "      <td>False</td>\n",
       "      <td>True</td>\n",
       "      <td>0.020697</td>\n",
       "    </tr>\n",
       "  </tbody>\n",
       "</table>\n",
       "</div>"
      ],
      "text/plain": [
       "        Topic StartVerseId EndVerseId  Votes  PassageLength  UsableRange  UsableReference  VotesPercentage\n",
       "8815  alcohol     49005018       <NA>    603              1        False             True         0.052001\n",
       "8816  alcohol     20020001       <NA>    510              1        False             True         0.043981\n",
       "8817  alcohol     54005023       <NA>    379              1        False             True         0.032684\n",
       "8818  alcohol     20023029   20023035    326              7         True             True         0.028113\n",
       "8819  alcohol     45014021       <NA>    310              1        False             True         0.026733\n",
       "8820  alcohol     46006009   46006011    288              3         True             True         0.024836\n",
       "8821  alcohol     23005011       <NA>    281              1        False             True         0.024232\n",
       "8822  alcohol     23005022       <NA>    240              1        False             True         0.020697"
      ]
     },
     "execution_count": 19,
     "metadata": {},
     "output_type": "execute_result"
    }
   ],
   "source": [
    "# compare the top passages by VotesPercentage for \"alcohol\": 8 vs 131\n",
    "alcoholdf = rd.topicsdf[rd.topicsdf.Topic == \"alcohol\"]\n",
    "print(f\"All rows: {len(alcoholdf)}\")\n",
    "alcoholdf[alcoholdf.VotesPercentage > 0.02]"
   ]
  },
  {
   "cell_type": "code",
   "execution_count": null,
   "id": "b123d2f8-a355-481a-a916-73952049a47d",
   "metadata": {
    "tags": []
   },
   "outputs": [],
   "source": [
    "# write out top topics\n",
    "toptopics.to_csv(DATAPATH / \"OpenBible.info/toptopics.tsv\", sep=\"\\t\")"
   ]
  },
  {
   "cell_type": "code",
   "execution_count": 23,
   "id": "13281d7a-c397-4501-9a72-d77d99b11568",
   "metadata": {},
   "outputs": [],
   "source": [
    "# for each top topic, write out data for all verses\n",
    "with (DATAPATH / \"OpenBible.info/toptopicdata.tsv\").open(\"w\") as f:\n",
    "    f.write(\"\\t\".join([\"Index\", \"Topic\", \"StartVerseId\", \"EndVerseId\", \"Votes\", \"PassageLength\", \n",
    "                       \"UsableRange\", \"VotesPercentage\"]) + \"\\n\")\n",
    "    for top in rd.toptopics.Topic:\n",
    "        outdf = rd.topicsdf[rd.topicsdf.Topic == top].drop(\"UsableReference\", axis=\"columns\")\n",
    "        outdf.to_csv(f, sep=\"\\t\", header=False)"
   ]
  },
  {
   "cell_type": "code",
   "execution_count": 24,
   "id": "569ac0aa-72b7-4e85-bf06-f0980ddc2062",
   "metadata": {
    "tags": []
   },
   "outputs": [],
   "source": [
    "# for each top topic, write out only rows whose VotesPercentage > 0.02\n",
    "with (DATAPATH / \"OpenBible.info/toptopictopversedata.tsv\").open(\"w\") as f:\n",
    "    f.write(\"\\t\".join([\"Index\", \"Topic\", \"StartVerseId\", \"EndVerseId\", \"Votes\", \"PassageLength\", \n",
    "                       \"UsableRange\", \"VotesPercentage\"]) + \"\\n\")\n",
    "    for top in rd.toptopics.Topic:\n",
    "        outdf = rd.topicsdf[rd.topicsdf.Topic == top].drop(\"UsableReference\", axis=\"columns\")\n",
    "        # this figure is heuristic, based on the distribution of VotesPercentage values\n",
    "        topversedf = outdf[outdf.VotesPercentage > 0.02]\n",
    "        topversedf.to_csv(f, sep=\"\\t\", header=False)"
   ]
  },
  {
   "cell_type": "code",
   "execution_count": 21,
   "id": "5d6718db-82df-4694-9884-0d54fe3006ad",
   "metadata": {
    "tags": []
   },
   "outputs": [],
   "source": [
    "from src import DATAPATH"
   ]
  },
  {
   "cell_type": "code",
   "execution_count": null,
   "id": "d928ee3f-f1e1-4335-b969-b083246fccdf",
   "metadata": {},
   "outputs": [],
   "source": [
    "stop"
   ]
  },
  {
   "cell_type": "markdown",
   "id": "3a34d719-30c0-4cdd-9267-0cb8f23f195c",
   "metadata": {},
   "source": [
    "## Expanding the Data: Topic Overlap\n",
    "\n",
    "Topics overlap due to:\n",
    "* typos (tatoo vs tattoo)\n",
    "* general/specific \n",
    "* synonymy\n",
    "\n",
    "Approach for similar strings:\n",
    "* set a threshold S for similarity\n",
    "* Compare all pairs T1, T2\n",
    "* For all pairs whose similarity > S, combine them\n",
    "* Repeat, averaging similarity across members of each set TS1, TS2. Might need to relax S given the averaging strategy?\n",
    "\n",
    "Once term sets are combined, combine their verse inventories, averaging their votes. Potentially discard verses with counts below a threshold? \n"
   ]
  },
  {
   "cell_type": "code",
   "execution_count": null,
   "id": "8b803d18-c95c-4864-834b-dae14c45e9d5",
   "metadata": {
    "tags": []
   },
   "outputs": [],
   "source": [
    "# verses for \"helping others\": 597 of them, so a much larger spread than some other topics\n",
    "rd.display_topic_data(\"helping others\")\n",
    "# print(f\"{len(df[df.Topic.str.startswith('helping others')])} verses with {df[df.Topic.str.startswith('helping others')].Votes.sum()} votes\")"
   ]
  },
  {
   "cell_type": "code",
   "execution_count": null,
   "id": "3f3a7deb-a53c-40ac-8eef-f88bc87cc464",
   "metadata": {
    "tags": []
   },
   "outputs": [],
   "source": [
    "helptopic = \"helping others\"\n",
    "helpdf = rd.df[rd.df.Topic == helptopic]\n",
    "helpdf"
   ]
  },
  {
   "cell_type": "code",
   "execution_count": null,
   "id": "b0dc3097-3397-4901-b70f-4b7b7419fe91",
   "metadata": {
    "tags": []
   },
   "outputs": [],
   "source": [
    "helpvotesmedian = helpdf.Votes.median()\n",
    "helpdf[helpdf.Votes > helpvotesmedian]"
   ]
  },
  {
   "cell_type": "code",
   "execution_count": null,
   "id": "26e94150-a73c-4093-a9a3-572fbee4d241",
   "metadata": {
    "tags": []
   },
   "outputs": [],
   "source": [
    "helpabovemedian = helpdf[helpdf.Votes >= helpvotesmedian]\n",
    "helpbelowmedian = helpdf[helpdf.Votes < helpvotesmedian]\n",
    "print(f\"Votes above median: {len(helpabovemedian)} verses, {helpabovemedian.Votes.sum()} votes \")\n",
    "print(f\"Votes below median: {len(helpbelowmedian)} verses, {helpbelowmedian.Votes.sum()} votes \")"
   ]
  },
  {
   "cell_type": "markdown",
   "id": "5dfe19b5-0309-4036-ab41-46e94352aefa",
   "metadata": {
    "tags": []
   },
   "source": [
    "## Multi-word Topics\n",
    "\n",
    "How many topics have multiple terms, and what's the distribution?"
   ]
  },
  {
   "cell_type": "code",
   "execution_count": null,
   "id": "b9e3c082-031d-4e0b-b8c6-2375017fdd65",
   "metadata": {
    "tags": []
   },
   "outputs": [],
   "source": [
    "# get NLTK stopwords and make a superstring removing stop words\n",
    "import nltk\n",
    "from nltk.corpus import stopwords\n",
    "english_stop_words = stopwords.words('english')\n",
    "def slugify(string: str) -> str:\n",
    "    \"\"\"Remove stop words from string and join the results.\"\"\"\n",
    "    return \"\".join([s for s in string.split(\" \") if s not in english_stop_words])\n"
   ]
  },
  {
   "cell_type": "code",
   "execution_count": null,
   "id": "f9761982-1d2f-4b37-b35f-f5bf38c9664f",
   "metadata": {
    "tags": []
   },
   "outputs": [],
   "source": [
    "topicsdf = pd.DataFrame(rd.df.Topic.value_counts())\n",
    "topicsdf = topicsdf.reset_index()\n",
    "topicsdf.columns = [\"Topic\", \"Count\"]\n",
    "#topicsdf\n",
    "topicsdf[\"AllTermsCount\"] = topicsdf.apply(lambda t: len(t.Topic.split(\" \")), axis=1)\n",
    "# remove stopwords\n",
    "topicsdf[\"SlugTerm\"] = topicsdf.apply(lambda t: slugify(t.Topic), axis=1)\n",
    "topicsdf.head()"
   ]
  },
  {
   "cell_type": "code",
   "execution_count": null,
   "id": "ac380337-ab11-4d1f-8373-00e36c3a422a",
   "metadata": {
    "tags": []
   },
   "outputs": [],
   "source": [
    "# make a big NxN matrix of all the SlugTerm values\n",
    "from thefuzz import fuzz\n",
    "slugterms = list(topicsdf.SlugTerm)\n",
    "# Create a DataFrame with each string as a row, and all the strings as columns\n",
    "slugdf = pd.DataFrame(\"\" * len(slugterms), columns=slugterms, index=slugterms)\n",
    "\n",
    "for i in range(len(slugterms)):\n",
    "    st1 = slugterms[i]\n",
    "    for j in range(i+1, len(slugterms)):\n",
    "        st2 = slugterms[j]\n",
    "        slugdf.loc[st1,st2] = fuzz.ratio(st1, st2)/100\n",
    "slugdf.head()"
   ]
  },
  {
   "cell_type": "code",
   "execution_count": null,
   "id": "bad0f304-8cb9-484c-9787-53e223eb0462",
   "metadata": {
    "tags": []
   },
   "outputs": [],
   "source": [
    "len(slugterms)"
   ]
  },
  {
   "cell_type": "code",
   "execution_count": null,
   "id": "0b636f31-7be9-4d4a-b546-b1b63aa4d829",
   "metadata": {
    "tags": []
   },
   "outputs": [],
   "source": [
    "# quite a few 2-3 word topics, and even one with 12 words! \"were does the bible teach that jesus is the so...\"\n",
    "topicsdf.Termcount.value_counts()"
   ]
  },
  {
   "cell_type": "code",
   "execution_count": null,
   "id": "50266ea2-ef2b-4a40-bb31-a352e543e11b",
   "metadata": {
    "tags": []
   },
   "outputs": [],
   "source": [
    "topicsdf[topicsdf.Termcount==8].Topic"
   ]
  },
  {
   "cell_type": "code",
   "execution_count": null,
   "id": "30a40d16-fa58-408b-a0ed-90a9a985cb16",
   "metadata": {
    "tags": []
   },
   "outputs": [],
   "source": [
    "topicsdf[topicsdf.Termcount==12].Topic"
   ]
  },
  {
   "cell_type": "code",
   "execution_count": null,
   "id": "847a441d-0ab5-4b94-84cb-68fb7bc26972",
   "metadata": {
    "tags": []
   },
   "outputs": [],
   "source": [
    "# distributional statistics for Votes\n",
    "# Unlike the website display, it looks like only verses with at least 10 votes are included in the downloaded data\n",
    "# The median number of votes is 30\n",
    "# The standard deviation is very large! A lot of strong outliers at the upper end apparently. \n",
    "rd.df.Votes.describe()"
   ]
  },
  {
   "cell_type": "code",
   "execution_count": null,
   "id": "d9b8c470-e238-49ba-8ed1-8d1d3be7a993",
   "metadata": {
    "tags": []
   },
   "outputs": [],
   "source": [
    "# focusing on the fat head\n",
    "rd.df.Votes.describe(percentiles=[.75, .80, .85, .90, .95])"
   ]
  },
  {
   "cell_type": "code",
   "execution_count": null,
   "id": "c8a55c56-c3db-4abc-8ce0-4172e159ab39",
   "metadata": {
    "tags": []
   },
   "outputs": [],
   "source": [
    "# the topic+verse with the most votes: \"helping others\"\n",
    "rd.df[rd.df.Votes == 24420]"
   ]
  },
  {
   "cell_type": "code",
   "execution_count": null,
   "id": "1de3c0b8-061b-4889-a6c4-06fbf0f8487a",
   "metadata": {},
   "outputs": [],
   "source": []
  },
  {
   "cell_type": "code",
   "execution_count": null,
   "id": "62d1b92a-df63-4f0d-8373-7fb34d298e99",
   "metadata": {},
   "outputs": [],
   "source": []
  },
  {
   "cell_type": "code",
   "execution_count": null,
   "id": "8d5b65a6-434f-4679-9dcb-a5fecd6ea676",
   "metadata": {
    "tags": []
   },
   "outputs": [],
   "source": [
    "# other topics for the most popular verse. \n",
    "rd.df[rd.df.StartVerseId==\"50002004\"]"
   ]
  },
  {
   "cell_type": "code",
   "execution_count": null,
   "id": "448da7ec-62d2-4519-b7ec-f2db91d42100",
   "metadata": {
    "tags": []
   },
   "outputs": [],
   "source": [
    "# 50002005 is within the range for \"affliction\" above: does it also occur as a start or end?\n",
    "# yes: a lot! This suggests we need to enumerate ranges into their components for better verse counting\n",
    "# but just multiplying e.g. a range of five into five rows would seriously overweight their votes. \n",
    "# Dividing their votes by the range seems like it might _underweight_ their votes. \n",
    "# It's the old \"how to score ranges\" problem. \n",
    "rd.df[(rd.df.StartVerseId==\"50002005\") | (rd.df.EndVerseId==\"50002005\")]"
   ]
  },
  {
   "cell_type": "code",
   "execution_count": null,
   "id": "710fd9fc-f07f-43ae-a2f8-b72a013ce477",
   "metadata": {},
   "outputs": [],
   "source": []
  },
  {
   "cell_type": "code",
   "execution_count": null,
   "id": "b076d538-683b-445e-aaae-e3c1776ca3bd",
   "metadata": {},
   "outputs": [],
   "source": []
  },
  {
   "cell_type": "code",
   "execution_count": null,
   "id": "f5078d12-b0f0-43d6-bcb7-90d9ac2b18d3",
   "metadata": {},
   "outputs": [],
   "source": []
  },
  {
   "cell_type": "code",
   "execution_count": null,
   "id": "9fea111e-b45b-4ff7-8779-be85ec55157e",
   "metadata": {},
   "outputs": [],
   "source": []
  },
  {
   "cell_type": "code",
   "execution_count": null,
   "id": "dc1def48-4838-4f96-9508-4fabb288f8d5",
   "metadata": {
    "tags": []
   },
   "outputs": [],
   "source": [
    "# comparing to verses for \"tattoo*\": 83 of them (\n",
    "topicsubstr = \"tattoo\"\n",
    "tattoodf = rd.df[rd.df.Topic.str.startswith(topicsubstr)]\n",
    "print(f\"{len(tattoodf)} verses with {tattoodf.Votes.sum()} votes\")\n",
    "tattoodf.Topic.value_counts()"
   ]
  },
  {
   "cell_type": "code",
   "execution_count": null,
   "id": "27f01ae7-9727-4abb-94e5-44ecd993f571",
   "metadata": {},
   "outputs": [],
   "source": []
  },
  {
   "cell_type": "code",
   "execution_count": null,
   "id": "1ef87088-afce-4dca-a337-9943d02db417",
   "metadata": {
    "tags": []
   },
   "outputs": [],
   "source": [
    "from clearlib.util import listalign\n",
    "listalign.compare([\"tattoos\", \"and\", \"piercings\"], [\"tattoo\", \"and\", \"body\", \"piercings\"])"
   ]
  }
 ],
 "metadata": {
  "kernelspec": {
   "display_name": "Python 3 (ipykernel)",
   "language": "python",
   "name": "python3"
  },
  "language_info": {
   "codemirror_mode": {
    "name": "ipython",
    "version": 3
   },
   "file_extension": ".py",
   "mimetype": "text/x-python",
   "name": "python",
   "nbconvert_exporter": "python",
   "pygments_lexer": "ipython3",
   "version": "3.11.10"
  }
 },
 "nbformat": 4,
 "nbformat_minor": 5
}
