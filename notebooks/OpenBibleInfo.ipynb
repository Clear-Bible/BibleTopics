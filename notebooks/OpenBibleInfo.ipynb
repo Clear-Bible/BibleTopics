{
 "cells": [
  {
   "cell_type": "markdown",
   "id": "1612dc31-d63f-4e2f-b859-20eccc2b3300",
   "metadata": {
    "tags": []
   },
   "source": [
    "# Exploring OpenBible.info Data\n",
    "\n",
    "This dataset by Stephen Smith has a collection of topics and associated verses, and was initiated in 2007. The initial set was about 4000 topics based on completing the phrase \"What does the Bible say about...\"). After that:\n",
    "\n",
    "> I used the Yahoo Web Search API to get the top thirty webpages related to each topic and then extracted the verse references from each page.\n",
    "\n",
    "(This approach likely included some irrelevant verses: in theory the voting approach should mitigate this.)\n",
    "\n",
    "> This Bible is a mashup of the Yahoo! and ESV Bible web services. It searches the Internet for the topics that interest people, many of which you’d never find in a traditional topical Bible. Then it shows relevant verses.\n",
    "\n",
    "Because of the methodology for adding topics, this data might be most useful if combined with other, more curated topic inventories.\n",
    "\n",
    "On the resulting site, users are invited to \n",
    "- vote on the relevance of the verse to the topics\n",
    "- suggest other verses for a topic\n",
    "- suggest new topics\n",
    "\n",
    "> Since launching three weeks ago, people have voted up or down 3,000 verses and suggested 200 new verses, in addition to creating 500 new topics.\n",
    "\n",
    "The original site had a passage -> tag cloud feature that no longer appears to function.\n",
    "\n",
    "## Scoring\n",
    "\n",
    "The initial scores:\n",
    "\n",
    "> each page got one vote per unique verse—so two references to John 1:1 on the same page would only count as one vote. All verses that appeared on two or more webpages made it into the main TB index.\n",
    "\n",
    "(This suggests that any topic/passage pair which still has only two votes might be discardable.)\n",
    "\n",
    "> About 750 of the topics occurred in both the new TB and in Nave’s; every verse for each topic in Nave’s got an extra three votes in the new TB.\n",
    "\n",
    "* Initial release: [June « 2007 « OpenBible.info Blog](https://www.openbible.info/blog/2007/06/)\n",
    "* [Topical Bible Technical Notes « OpenBible.info Blog](https://www.openbible.info/blog/2007/07/topical-bible-technical-notes/)\n",
    "* Other blog posts on the category Topic: https://www.openbible.info/blog/category/topics/. This includes some interesting change-over-time analysis for some hot-button topics.\n",
    "\n",
    "## Duplicate Topics\n",
    "\n",
    "> Searching for a word will automatically add it.\n",
    "\n",
    "This means there's some duplication that should probably be collapsed, e.g. \n",
    "\n",
    "```\n",
    "Tatoos On The Body\n",
    "...\n",
    "Tattoo\n",
    "Tattooing\n",
    "Tattooing Your Body\n",
    "Tattoos\n",
    "Tattoos And Body Piercings\n",
    "Tattoos And Piercings\n",
    "Tattoos Body Piercings\n",
    "```\n",
    "\n",
    "## Updates\n",
    "\n",
    "Note this data is still updated weekly: this snapshot is from 2024-08-05. It might be interesting to compare against previous versions to see whether the data is still growing, and how. For example, the letter T currently has 734 entries: it had the same number of entries in 2014.\n",
    "\n",
    "The analysis below shows:\n",
    "* There are now 6700 unique topics. So clearly some de-duping and consolidation may be needed.\n",
    "* There is a \"fat head\" of topics with a vote count way above the mean"
   ]
  },
  {
   "cell_type": "code",
   "execution_count": 1,
   "id": "7dcb8c9d-2567-4f7d-acfe-b64ffb86d69a",
   "metadata": {},
   "outputs": [
    {
     "ename": "AttributeError",
     "evalue": "module 'pandas' has no attribute 'Dataframe'",
     "output_type": "error",
     "traceback": [
      "\u001b[0;31m---------------------------------------------------------------------------\u001b[0m",
      "\u001b[0;31mAttributeError\u001b[0m                            Traceback (most recent call last)",
      "Cell \u001b[0;32mIn[1], line 6\u001b[0m\n\u001b[1;32m      3\u001b[0m pd\u001b[38;5;241m.\u001b[39mset_option(\u001b[38;5;124m'\u001b[39m\u001b[38;5;124mdisplay.max_columns\u001b[39m\u001b[38;5;124m'\u001b[39m, \u001b[38;5;241m500\u001b[39m)\n\u001b[1;32m      4\u001b[0m pd\u001b[38;5;241m.\u001b[39mset_option(\u001b[38;5;124m'\u001b[39m\u001b[38;5;124mdisplay.width\u001b[39m\u001b[38;5;124m'\u001b[39m, \u001b[38;5;241m1000\u001b[39m)\n\u001b[0;32m----> 6\u001b[0m \u001b[38;5;28;01mfrom\u001b[39;00m\u001b[38;5;250m \u001b[39m\u001b[38;5;21;01msrc\u001b[39;00m\u001b[38;5;21;01m.\u001b[39;00m\u001b[38;5;21;01mopenbibleinfo\u001b[39;00m\u001b[38;5;250m \u001b[39m\u001b[38;5;28;01mimport\u001b[39;00m DATAPATH, reader\n\u001b[1;32m      7\u001b[0m rd \u001b[38;5;241m=\u001b[39m reader\u001b[38;5;241m.\u001b[39mReader()\n",
      "File \u001b[0;32m~/git/Clear-Bible/BibleTopics/src/openbibleinfo/reader.py:13\u001b[0m\n\u001b[1;32m      8\u001b[0m \u001b[38;5;28;01mfrom\u001b[39;00m\u001b[38;5;250m \u001b[39m\u001b[38;5;21;01mbiblelib\u001b[39;00m\u001b[38;5;21;01m.\u001b[39;00m\u001b[38;5;21;01mword\u001b[39;00m\u001b[38;5;21;01m.\u001b[39;00m\u001b[38;5;21;01mbcvwpid\u001b[39;00m\u001b[38;5;250m \u001b[39m\u001b[38;5;28;01mimport\u001b[39;00m BCVID, BCVIDRange\n\u001b[1;32m     10\u001b[0m \u001b[38;5;28;01mfrom\u001b[39;00m\u001b[38;5;250m \u001b[39m\u001b[38;5;21;01msrc\u001b[39;00m\u001b[38;5;250m \u001b[39m\u001b[38;5;28;01mimport\u001b[39;00m DATAPATH\n\u001b[0;32m---> 13\u001b[0m \u001b[38;5;28;43;01mclass\u001b[39;49;00m\u001b[38;5;250;43m \u001b[39;49m\u001b[38;5;21;43;01mReader\u001b[39;49;00m\u001b[43m:\u001b[49m\n\u001b[1;32m     14\u001b[0m \u001b[38;5;250;43m    \u001b[39;49m\u001b[38;5;124;43;03m\"\"\"Read TSV data into a dataframe.\"\"\"\u001b[39;49;00m\n\u001b[1;32m     16\u001b[0m \u001b[43m    \u001b[49m\u001b[43mvotescolumns\u001b[49m\u001b[43m \u001b[49m\u001b[38;5;241;43m=\u001b[39;49m\u001b[43m \u001b[49m\u001b[43m(\u001b[49m\u001b[38;5;124;43m\"\u001b[39;49m\u001b[38;5;124;43mTopic\u001b[39;49m\u001b[38;5;124;43m\"\u001b[39;49m\u001b[43m,\u001b[49m\u001b[43m \u001b[49m\u001b[38;5;124;43m\"\u001b[39;49m\u001b[38;5;124;43mStartVerseId\u001b[39;49m\u001b[38;5;124;43m\"\u001b[39;49m\u001b[43m,\u001b[49m\u001b[43m \u001b[49m\u001b[38;5;124;43m\"\u001b[39;49m\u001b[38;5;124;43mEndVerseId\u001b[39;49m\u001b[38;5;124;43m\"\u001b[39;49m\u001b[43m,\u001b[49m\u001b[43m \u001b[49m\u001b[38;5;124;43m\"\u001b[39;49m\u001b[38;5;124;43mVotes\u001b[39;49m\u001b[38;5;124;43m\"\u001b[39;49m\u001b[43m)\u001b[49m\n",
      "File \u001b[0;32m~/git/Clear-Bible/BibleTopics/src/openbibleinfo/reader.py:128\u001b[0m, in \u001b[0;36mReader\u001b[0;34m()\u001b[0m\n\u001b[1;32m    125\u001b[0m     topicsdf[\u001b[38;5;124m\"\u001b[39m\u001b[38;5;124mMeanPassageVotes\u001b[39m\u001b[38;5;124m\"\u001b[39m] \u001b[38;5;241m=\u001b[39m topicsdf\u001b[38;5;241m.\u001b[39mTopicVotesSum \u001b[38;5;241m/\u001b[39m topicsdf\u001b[38;5;241m.\u001b[39mTopicPassageCount\n\u001b[1;32m    126\u001b[0m     \u001b[38;5;28;01mreturn\u001b[39;00m topicsdf[topicsdf\u001b[38;5;241m.\u001b[39mMeanPassageVotes \u001b[38;5;241m>\u001b[39m threshold]\u001b[38;5;241m.\u001b[39msort_values(\u001b[38;5;124m\"\u001b[39m\u001b[38;5;124mMeanPassageVotes\u001b[39m\u001b[38;5;124m\"\u001b[39m, ascending\u001b[38;5;241m=\u001b[39m\u001b[38;5;28;01mFalse\u001b[39;00m)\n\u001b[0;32m--> 128\u001b[0m \u001b[38;5;28;01mdef\u001b[39;00m\u001b[38;5;250m \u001b[39m\u001b[38;5;21mconsolidate_intersections\u001b[39m(\u001b[38;5;28mself\u001b[39m, weight: \u001b[38;5;28mfloat\u001b[39m \u001b[38;5;241m=\u001b[39m \u001b[38;5;241m0.75\u001b[39m) \u001b[38;5;241m-\u001b[39m\u001b[38;5;241m>\u001b[39m \u001b[43mpd\u001b[49m\u001b[38;5;241;43m.\u001b[39;49m\u001b[43mDataframe\u001b[49m:\n\u001b[1;32m    129\u001b[0m \u001b[38;5;250m    \u001b[39m\u001b[38;5;124;03m\"\"\"Return a new DataFrame that combines single verses with 2-verse ranges.\u001b[39;00m\n\u001b[1;32m    130\u001b[0m \n\u001b[1;32m    131\u001b[0m \u001b[38;5;124;03m    Single verse votes are weighted according to weight and added\u001b[39;00m\n\u001b[1;32m    132\u001b[0m \u001b[38;5;124;03m    to the votes for the range.\u001b[39;00m\n\u001b[1;32m    133\u001b[0m \n\u001b[1;32m    134\u001b[0m \u001b[38;5;124;03m    \"\"\"\u001b[39;00m\n\u001b[1;32m    136\u001b[0m     \u001b[38;5;28;01mdef\u001b[39;00m\u001b[38;5;250m \u001b[39m\u001b[38;5;21mintersects\u001b[39m(rangetuple: pd\u001b[38;5;241m.\u001b[39mcore\u001b[38;5;241m.\u001b[39mframe\u001b[38;5;241m.\u001b[39mPandas, singletuple: pd\u001b[38;5;241m.\u001b[39mcore\u001b[38;5;241m.\u001b[39mframe\u001b[38;5;241m.\u001b[39mPandas) \u001b[38;5;241m-\u001b[39m\u001b[38;5;241m>\u001b[39m \u001b[38;5;28mbool\u001b[39m:\n",
      "\u001b[0;31mAttributeError\u001b[0m: module 'pandas' has no attribute 'Dataframe'"
     ]
    }
   ],
   "source": [
    "# Setup\n",
    "import pandas as pd\n",
    "pd.set_option('display.max_columns', 500)\n",
    "pd.set_option('display.width', 1000)\n",
    "\n",
    "from src.openbibleinfo import DATAPATH, reader\n",
    "rd = reader.Reader()"
   ]
  },
  {
   "cell_type": "code",
   "execution_count": null,
   "id": "579d9762-d8c6-4b6e-8493-f9773802e956",
   "metadata": {},
   "outputs": [],
   "source": [
    "# some passages are ranges (EXO 20:1-26), others a single verse (Gal 5:14)\n",
    "rd.df.head()"
   ]
  },
  {
   "cell_type": "code",
   "execution_count": null,
   "id": "4e0b1b3a-0187-463d-bb24-5b541cb52323",
   "metadata": {
    "tags": []
   },
   "outputs": [],
   "source": [
    "n_topics = len(rd.df.Topic.value_counts())\n",
    "n_records = len(rd.df)\n",
    "n_votes = rd.df.Votes.sum()\n",
    "print(f\"Number of uniq topics: \\t{n_topics:9}\")\n",
    "print(f\"Number of rows: \\t{n_records:9}\")\n",
    "print(f\"Number of votes: \\t{n_votes:9}\")"
   ]
  },
  {
   "cell_type": "markdown",
   "id": "c2ace2f1-19aa-48b1-8ff1-8413856663b8",
   "metadata": {},
   "source": [
    "## Expanding the Data: Passage Length\n",
    "\n",
    "Some verses have an `EndVerseId` value, indicating a range. This adds a `PassageLength` column. \n",
    "* The value is 1 if no `EndVerseId`\n",
    "* If the `EndVerseId` is in a different chapter, arbitrarily return length == 99. My code can't currently enumerate these verses, and potentially too long anyway.\n",
    "* If the `EndVerseId` is in a different book, return 999. These ranges seem way too long to be useful. There are 72 of them, some of them hot button topics. Less than 1/1000 votes. \n",
    "\n",
    "`UsableRange` is True if a range and length < 99. `UsableReference` is True if a single verse or `UsableRange` is True. "
   ]
  },
  {
   "cell_type": "code",
   "execution_count": null,
   "id": "6d4cf3e4-94e9-4dae-a123-7102aec0220f",
   "metadata": {
    "tags": []
   },
   "outputs": [],
   "source": [
    "# cross-chapter ranges\n",
    "ccrecords = rd.df[rd.df.PassageLength==99]\n",
    "print(f\"{len(ccrecords)} cross-chapter records\")\n",
    "print(f\"{(ccrecords.Votes.sum() / n_votes)*100:.2f}% of all votes\")\n",
    "ccrecords.Topic.value_counts()"
   ]
  },
  {
   "cell_type": "code",
   "execution_count": null,
   "id": "dad0fb44-3c15-4793-b647-c5ab5a027866",
   "metadata": {},
   "outputs": [],
   "source": [
    "# cross-book ranges: these will likely get dropped\n",
    "cbrecords = rd.df[rd.df.PassageLength==999]\n",
    "print(f\"{(cbrecords.Votes.sum() / n_votes)*100:.3f}% of all votes\")\n",
    "cbrecords.Topic.value_counts()"
   ]
  },
  {
   "cell_type": "code",
   "execution_count": null,
   "id": "4519175c-670b-440f-a4b8-b4fb59235337",
   "metadata": {},
   "outputs": [],
   "source": [
    "# topicsdf removes passages whose UsableRange < 99\n",
    "n_topics = len(rd.topicsdf.Topic.value_counts())\n",
    "n_records = len(rd.topicsdf)\n",
    "n_votes = rd.topicsdf.Votes.sum()\n",
    "print(f\"Number of uniq topics: \\t{n_topics:9}\")\n",
    "print(f\"Number of rows: \\t{n_records:9}\")\n",
    "print(f\"Number of votes: \\t{n_votes:9}\")"
   ]
  },
  {
   "cell_type": "markdown",
   "id": "587b11bd-318e-446a-9980-08fbf6f2070b",
   "metadata": {},
   "source": [
    "### Distribution of Passage Lengths\n",
    "\n",
    "This excludes cross-chapter and cross-book ranges. \n",
    "\n",
    "Looks like lengths <= 5 cover about 90% of the data. So perhaps enumerate and split votes up to that length, and otherwise treat as atomic (perhaps with a constant epsilon weight)? "
   ]
  },
  {
   "cell_type": "code",
   "execution_count": null,
   "id": "84bd1236-a4dd-4743-8000-f85ef5aabe04",
   "metadata": {
    "tags": []
   },
   "outputs": [],
   "source": [
    "print(f\"Records with a 'good' PassageLength value: {len(rd.topicsdf)} ({(len(rd.topicsdf)/n_records)*100:.2f}%)\")\n",
    "rd.topicsdf.PassageLength.value_counts(normalize=True)"
   ]
  },
  {
   "cell_type": "markdown",
   "id": "67a75dfc-42bf-45cd-9671-f0bf8235696c",
   "metadata": {},
   "source": [
    "## Expanding the Data: aggregating intersecting references\n",
    "\n",
    "Topic references sometimes intersect for a topic: for example \"marrying a divorced woman\" has votes for MAT 5:31, 5:32, and the range 5:31-32 (among others). Combining these would significantly increase the VotesPercentage for this passage.\n",
    "\n",
    "In other cases there might be two ranges, one subsumed in the other (in this example, MAT 5:1-48 and MAT 5:21-48). Note the first reference (which has more votes) is the entire chapter. \n",
    "\n",
    "If we had a reasonable way to combine such references, that should sharpen the counts. Minimally, a single verse and a \"short\" range ought to be combinable: perhaps \"short\" here is PassageLength <= 3 or 5? \n",
    "\n",
    "The simplest initial step might be to combine single verses within a topic within an intersecting 2-verse range for that topic, allocating some portion of their votes: all? 0.75? 0.5? \n",
    "\n",
    "NOT YET ACCOMPLISHED."
   ]
  },
  {
   "cell_type": "code",
   "execution_count": null,
   "id": "71f0e6a7-07ee-43e4-a746-a539b85f6215",
   "metadata": {
    "tags": []
   },
   "outputs": [],
   "source": [
    "marryingdivorced = rd.topicsdf[rd.topicsdf.Topic == \"marrying a divorced woman\"]\n",
    "marryingdivorced[marryingdivorced.StartVerseId.str.startswith(\"40005\")]"
   ]
  },
  {
   "cell_type": "markdown",
   "id": "476c7794-e6c4-4c63-952d-b2e5197d6fef",
   "metadata": {
    "tags": []
   },
   "source": [
    "## \"Top\" Topics\n",
    "\n",
    "From here onward, we only consider records where `UsableReference` is True. So either a range within a chapter, or a single verse. \n",
    "\n",
    "A TopicRecord combines a Topic label, a set of passages, and a count of votes. \n",
    "* `TopicPassageCount` is the count of passages for a topic\n",
    "* `TopicVotesSum` are the sum of votes for a topic\n",
    "* `MeanPassageVotes` is `TopicVotesSum`/`TopicPassageCount`\n"
   ]
  },
  {
   "cell_type": "code",
   "execution_count": null,
   "id": "e89e85fd-daa9-4ea6-8958-d9c3a0b15cdb",
   "metadata": {
    "tags": []
   },
   "outputs": [],
   "source": [
    "# 55 is the 80% value for MeanPassageVotes across rd.topicsdf\n",
    "# so an approximation for \"high number of votes per passage\"\n",
    "#toptopics = rd.top_topics(threshold=55)\n",
    "#toptopics.sort_values('MeanPassageVotes', ascending=False).head(10)\n",
    "rd.toptopics.head(10)"
   ]
  },
  {
   "cell_type": "code",
   "execution_count": null,
   "id": "86b18c43-1f0c-43a4-bfa0-44de934dc1b8",
   "metadata": {
    "tags": []
   },
   "outputs": [],
   "source": [
    "# the median TopicPassageCount value is 161: that still seems like way too many\n",
    "rd.toptopics.describe()"
   ]
  },
  {
   "cell_type": "code",
   "execution_count": null,
   "id": "beaf7d54-e573-4bac-bb1f-9e9f0c07ac02",
   "metadata": {
    "tags": []
   },
   "outputs": [],
   "source": [
    "# but not all \"toptopics\" seem \"top\"\n",
    "rd.toptopics[rd.toptopics.TopicVotesSum < 1000].head()"
   ]
  },
  {
   "cell_type": "code",
   "execution_count": null,
   "id": "c80cde30-bfd7-4f8e-aa4f-bafe5abd64c0",
   "metadata": {
    "tags": []
   },
   "outputs": [],
   "source": [
    "# top 50% by TopicPassageCount, looking at the bottom\n",
    "rd.toptopics[rd.toptopics.TopicPassageCount >= 156].tail()"
   ]
  },
  {
   "cell_type": "code",
   "execution_count": null,
   "id": "bad4c1ff-300e-4c98-9bcc-eba0f6103f31",
   "metadata": {
    "tags": []
   },
   "outputs": [],
   "source": [
    "# we might further filter rd.topicsdf to the top n passages for each topic in toptopics.Topic\n",
    "# we could also choose a higher threshold for top_topics()\n",
    "#rd.topicsdf[rd.topicsdf.Topic == \"love one another\"]\n",
    "rd.topicsdf[rd.topicsdf.Topic == \"immigration\"]"
   ]
  },
  {
   "cell_type": "markdown",
   "id": "bad40026-7dde-4aee-9fc8-530fae1f2f18",
   "metadata": {},
   "source": [
    "### Top Passages for Top Topics\n",
    "\n",
    "For rd.toptopics collect the verses whose \n",
    "`n_votes` is the total number of votes. "
   ]
  },
  {
   "cell_type": "markdown",
   "id": "906d41cc-d1d9-45c8-8956-4fef54289805",
   "metadata": {},
   "source": [
    "### Quality Score\n",
    "\n",
    "Stephen measured quality in topic-scores.txt as \"percentage of votes for the passage\". This is done here with `passage_probability()`, only computed for toptopics. "
   ]
  },
  {
   "cell_type": "code",
   "execution_count": null,
   "id": "7b68cf32-b488-4380-bef5-b4532efb8a7b",
   "metadata": {
    "tags": []
   },
   "outputs": [],
   "source": [
    "# compute across all topics: this takes a few minutes\n",
    "#rd.topicsdf[\"VotesPercentage\"] = rd.topicsdf.apply(rd.passage_probability, axis=1)\n",
    "# this approach seems equally slow and produces the same warningb\n",
    "#rd.topicsdf[\"VotesPercentage\"] = rd.topicsdf.apply(rd.passage_probability2, axis=1)\n",
    "# not sure how to address the warning this produces\n",
    "# this approach seems faster: still produces the SettingWithCopyWarning warning though\n",
    "rd.topicsdf[\"VotesPercentage\"] = [prob for tup in rd.topicsdf.itertuples()\n",
    "                                  if (topic := tup.Topic)\n",
    "                                  if (votesum := rd.topicvotesum.loc[topic].Votes)\n",
    "                                  if (prob := int(tup.Votes)/votesum)]"
   ]
  },
  {
   "cell_type": "code",
   "execution_count": null,
   "id": "264e56cf-a3f4-4c93-862e-5bb328d7d2f8",
   "metadata": {
    "tags": []
   },
   "outputs": [],
   "source": [
    "rd.topicsdf.head()"
   ]
  },
  {
   "cell_type": "code",
   "execution_count": null,
   "id": "140710cc-ca22-48ff-b2d5-e6f9df85db17",
   "metadata": {
    "tags": []
   },
   "outputs": [],
   "source": [
    "# what's the distribution of VotesPercentage values?\n",
    "rd.topicsdf.VotesPercentage.describe()"
   ]
  },
  {
   "cell_type": "code",
   "execution_count": null,
   "id": "2aeed5e0-9c2c-4dc3-81ca-1eba3462f276",
   "metadata": {
    "tags": []
   },
   "outputs": [],
   "source": [
    "# compare the top passages by VotesPercentage for \"alcohol\": 8 vs 131\n",
    "alcoholdf = rd.topicsdf[rd.topicsdf.Topic == \"alcohol\"]\n",
    "print(f\"All rows: {len(alcoholdf)}\")\n",
    "alcoholdf[alcoholdf.VotesPercentage > 0.02]"
   ]
  },
  {
   "cell_type": "code",
   "execution_count": null,
   "id": "b123d2f8-a355-481a-a916-73952049a47d",
   "metadata": {
    "tags": []
   },
   "outputs": [],
   "source": [
    "# write out top topics\n",
    "toptopics.to_csv(DATAPATH / \"OpenBible.info/toptopics.tsv\", sep=\"\\t\")"
   ]
  },
  {
   "cell_type": "code",
   "execution_count": null,
   "id": "13281d7a-c397-4501-9a72-d77d99b11568",
   "metadata": {},
   "outputs": [],
   "source": [
    "# for each top topic, write out data for all verses\n",
    "with (DATAPATH / \"OpenBible.info/toptopicdata.tsv\").open(\"w\") as f:\n",
    "    f.write(\"\\t\".join([\"Index\", \"Topic\", \"StartVerseId\", \"EndVerseId\", \"Votes\", \"PassageLength\", \n",
    "                       \"UsableRange\", \"VotesPercentage\"]) + \"\\n\")\n",
    "    for top in rd.toptopics.Topic:\n",
    "        outdf = rd.topicsdf[rd.topicsdf.Topic == top].drop(\"UsableReference\", axis=\"columns\")\n",
    "        outdf.to_csv(f, sep=\"\\t\", header=False)"
   ]
  },
  {
   "cell_type": "code",
   "execution_count": null,
   "id": "569ac0aa-72b7-4e85-bf06-f0980ddc2062",
   "metadata": {
    "tags": []
   },
   "outputs": [],
   "source": [
    "# for each top topic, write out only rows whose VotesPercentage > 0.02\n",
    "with (DATAPATH / \"OpenBible.info/toptopictopversedata.tsv\").open(\"w\") as f:\n",
    "    f.write(\"\\t\".join([\"Index\", \"Topic\", \"StartVerseId\", \"EndVerseId\", \"Votes\", \"PassageLength\", \n",
    "                       \"UsableRange\", \"VotesPercentage\"]) + \"\\n\")\n",
    "    for top in rd.toptopics.Topic:\n",
    "        outdf = rd.topicsdf[rd.topicsdf.Topic == top].drop(\"UsableReference\", axis=\"columns\")\n",
    "        # this figure is heuristic, based on the distribution of VotesPercentage values\n",
    "        topversedf = outdf[outdf.VotesPercentage > 0.02]\n",
    "        topversedf.to_csv(f, sep=\"\\t\", header=False)"
   ]
  },
  {
   "cell_type": "code",
   "execution_count": null,
   "id": "5d6718db-82df-4694-9884-0d54fe3006ad",
   "metadata": {
    "tags": []
   },
   "outputs": [],
   "source": [
    "from src import DATAPATH"
   ]
  },
  {
   "cell_type": "code",
   "execution_count": null,
   "id": "d928ee3f-f1e1-4335-b969-b083246fccdf",
   "metadata": {},
   "outputs": [],
   "source": [
    "stop"
   ]
  },
  {
   "cell_type": "markdown",
   "id": "3a34d719-30c0-4cdd-9267-0cb8f23f195c",
   "metadata": {},
   "source": [
    "## Expanding the Data: Topic Overlap\n",
    "\n",
    "Topics overlap due to:\n",
    "* typos (tatoo vs tattoo)\n",
    "* general/specific \n",
    "* synonymy\n",
    "\n",
    "Approach for similar strings:\n",
    "* set a threshold S for similarity\n",
    "* Compare all pairs T1, T2\n",
    "* For all pairs whose similarity > S, combine them\n",
    "* Repeat, averaging similarity across members of each set TS1, TS2. Might need to relax S given the averaging strategy?\n",
    "\n",
    "Once term sets are combined, combine their verse inventories, averaging their votes. Potentially discard verses with counts below a threshold? \n"
   ]
  },
  {
   "cell_type": "code",
   "execution_count": null,
   "id": "8b803d18-c95c-4864-834b-dae14c45e9d5",
   "metadata": {
    "tags": []
   },
   "outputs": [],
   "source": [
    "# verses for \"helping others\": 597 of them, so a much larger spread than some other topics\n",
    "rd.display_topic_data(\"helping others\")\n",
    "# print(f\"{len(df[df.Topic.str.startswith('helping others')])} verses with {df[df.Topic.str.startswith('helping others')].Votes.sum()} votes\")"
   ]
  },
  {
   "cell_type": "code",
   "execution_count": null,
   "id": "3f3a7deb-a53c-40ac-8eef-f88bc87cc464",
   "metadata": {
    "tags": []
   },
   "outputs": [],
   "source": [
    "helptopic = \"helping others\"\n",
    "helpdf = rd.df[rd.df.Topic == helptopic]\n",
    "helpdf"
   ]
  },
  {
   "cell_type": "code",
   "execution_count": null,
   "id": "b0dc3097-3397-4901-b70f-4b7b7419fe91",
   "metadata": {
    "tags": []
   },
   "outputs": [],
   "source": [
    "helpvotesmedian = helpdf.Votes.median()\n",
    "helpdf[helpdf.Votes > helpvotesmedian]"
   ]
  },
  {
   "cell_type": "code",
   "execution_count": null,
   "id": "26e94150-a73c-4093-a9a3-572fbee4d241",
   "metadata": {
    "tags": []
   },
   "outputs": [],
   "source": [
    "helpabovemedian = helpdf[helpdf.Votes >= helpvotesmedian]\n",
    "helpbelowmedian = helpdf[helpdf.Votes < helpvotesmedian]\n",
    "print(f\"Votes above median: {len(helpabovemedian)} verses, {helpabovemedian.Votes.sum()} votes \")\n",
    "print(f\"Votes below median: {len(helpbelowmedian)} verses, {helpbelowmedian.Votes.sum()} votes \")"
   ]
  },
  {
   "cell_type": "markdown",
   "id": "5dfe19b5-0309-4036-ab41-46e94352aefa",
   "metadata": {
    "tags": []
   },
   "source": [
    "## Multi-word Topics\n",
    "\n",
    "How many topics have multiple terms, and what's the distribution?"
   ]
  },
  {
   "cell_type": "code",
   "execution_count": null,
   "id": "b9e3c082-031d-4e0b-b8c6-2375017fdd65",
   "metadata": {
    "tags": []
   },
   "outputs": [],
   "source": [
    "# get NLTK stopwords and make a superstring removing stop words\n",
    "import nltk\n",
    "from nltk.corpus import stopwords\n",
    "english_stop_words = stopwords.words('english')\n",
    "def slugify(string: str) -> str:\n",
    "    \"\"\"Remove stop words from string and join the results.\"\"\"\n",
    "    return \"\".join([s for s in string.split(\" \") if s not in english_stop_words])\n"
   ]
  },
  {
   "cell_type": "code",
   "execution_count": null,
   "id": "f9761982-1d2f-4b37-b35f-f5bf38c9664f",
   "metadata": {
    "tags": []
   },
   "outputs": [],
   "source": [
    "topicsdf = pd.DataFrame(rd.df.Topic.value_counts())\n",
    "topicsdf = topicsdf.reset_index()\n",
    "topicsdf.columns = [\"Topic\", \"Count\"]\n",
    "#topicsdf\n",
    "topicsdf[\"AllTermsCount\"] = topicsdf.apply(lambda t: len(t.Topic.split(\" \")), axis=1)\n",
    "# remove stopwords\n",
    "topicsdf[\"SlugTerm\"] = topicsdf.apply(lambda t: slugify(t.Topic), axis=1)\n",
    "topicsdf.head()"
   ]
  },
  {
   "cell_type": "code",
   "execution_count": null,
   "id": "ac380337-ab11-4d1f-8373-00e36c3a422a",
   "metadata": {
    "tags": []
   },
   "outputs": [],
   "source": [
    "# make a big NxN matrix of all the SlugTerm values\n",
    "from thefuzz import fuzz\n",
    "slugterms = list(topicsdf.SlugTerm)\n",
    "# Create a DataFrame with each string as a row, and all the strings as columns\n",
    "slugdf = pd.DataFrame(\"\" * len(slugterms), columns=slugterms, index=slugterms)\n",
    "\n",
    "for i in range(len(slugterms)):\n",
    "    st1 = slugterms[i]\n",
    "    for j in range(i+1, len(slugterms)):\n",
    "        st2 = slugterms[j]\n",
    "        slugdf.loc[st1,st2] = fuzz.ratio(st1, st2)/100\n",
    "slugdf.head()"
   ]
  },
  {
   "cell_type": "code",
   "execution_count": null,
   "id": "bad0f304-8cb9-484c-9787-53e223eb0462",
   "metadata": {
    "tags": []
   },
   "outputs": [],
   "source": [
    "len(slugterms)"
   ]
  },
  {
   "cell_type": "code",
   "execution_count": null,
   "id": "0b636f31-7be9-4d4a-b546-b1b63aa4d829",
   "metadata": {
    "tags": []
   },
   "outputs": [],
   "source": [
    "# quite a few 2-3 word topics, and even one with 12 words! \"were does the bible teach that jesus is the so...\"\n",
    "topicsdf.Termcount.value_counts()"
   ]
  },
  {
   "cell_type": "code",
   "execution_count": null,
   "id": "50266ea2-ef2b-4a40-bb31-a352e543e11b",
   "metadata": {
    "tags": []
   },
   "outputs": [],
   "source": [
    "topicsdf[topicsdf.Termcount==8].Topic"
   ]
  },
  {
   "cell_type": "code",
   "execution_count": null,
   "id": "30a40d16-fa58-408b-a0ed-90a9a985cb16",
   "metadata": {
    "tags": []
   },
   "outputs": [],
   "source": [
    "topicsdf[topicsdf.Termcount==12].Topic"
   ]
  },
  {
   "cell_type": "code",
   "execution_count": null,
   "id": "847a441d-0ab5-4b94-84cb-68fb7bc26972",
   "metadata": {
    "tags": []
   },
   "outputs": [],
   "source": [
    "# distributional statistics for Votes\n",
    "# Unlike the website display, it looks like only verses with at least 10 votes are included in the downloaded data\n",
    "# The median number of votes is 30\n",
    "# The standard deviation is very large! A lot of strong outliers at the upper end apparently. \n",
    "rd.df.Votes.describe()"
   ]
  },
  {
   "cell_type": "code",
   "execution_count": null,
   "id": "d9b8c470-e238-49ba-8ed1-8d1d3be7a993",
   "metadata": {
    "tags": []
   },
   "outputs": [],
   "source": [
    "# focusing on the fat head\n",
    "rd.df.Votes.describe(percentiles=[.75, .80, .85, .90, .95])"
   ]
  },
  {
   "cell_type": "code",
   "execution_count": null,
   "id": "c8a55c56-c3db-4abc-8ce0-4172e159ab39",
   "metadata": {
    "tags": []
   },
   "outputs": [],
   "source": [
    "# the topic+verse with the most votes: \"helping others\"\n",
    "rd.df[rd.df.Votes == 24420]"
   ]
  },
  {
   "cell_type": "code",
   "execution_count": null,
   "id": "1de3c0b8-061b-4889-a6c4-06fbf0f8487a",
   "metadata": {},
   "outputs": [],
   "source": []
  },
  {
   "cell_type": "code",
   "execution_count": null,
   "id": "62d1b92a-df63-4f0d-8373-7fb34d298e99",
   "metadata": {},
   "outputs": [],
   "source": []
  },
  {
   "cell_type": "code",
   "execution_count": null,
   "id": "8d5b65a6-434f-4679-9dcb-a5fecd6ea676",
   "metadata": {
    "tags": []
   },
   "outputs": [],
   "source": [
    "# other topics for the most popular verse. \n",
    "rd.df[rd.df.StartVerseId==\"50002004\"]"
   ]
  },
  {
   "cell_type": "code",
   "execution_count": null,
   "id": "448da7ec-62d2-4519-b7ec-f2db91d42100",
   "metadata": {
    "tags": []
   },
   "outputs": [],
   "source": [
    "# 50002005 is within the range for \"affliction\" above: does it also occur as a start or end?\n",
    "# yes: a lot! This suggests we need to enumerate ranges into their components for better verse counting\n",
    "# but just multiplying e.g. a range of five into five rows would seriously overweight their votes. \n",
    "# Dividing their votes by the range seems like it might _underweight_ their votes. \n",
    "# It's the old \"how to score ranges\" problem. \n",
    "rd.df[(rd.df.StartVerseId==\"50002005\") | (rd.df.EndVerseId==\"50002005\")]"
   ]
  },
  {
   "cell_type": "code",
   "execution_count": null,
   "id": "710fd9fc-f07f-43ae-a2f8-b72a013ce477",
   "metadata": {},
   "outputs": [],
   "source": []
  },
  {
   "cell_type": "code",
   "execution_count": null,
   "id": "b076d538-683b-445e-aaae-e3c1776ca3bd",
   "metadata": {},
   "outputs": [],
   "source": []
  },
  {
   "cell_type": "code",
   "execution_count": null,
   "id": "f5078d12-b0f0-43d6-bcb7-90d9ac2b18d3",
   "metadata": {},
   "outputs": [],
   "source": []
  },
  {
   "cell_type": "code",
   "execution_count": null,
   "id": "9fea111e-b45b-4ff7-8779-be85ec55157e",
   "metadata": {},
   "outputs": [],
   "source": []
  },
  {
   "cell_type": "code",
   "execution_count": null,
   "id": "dc1def48-4838-4f96-9508-4fabb288f8d5",
   "metadata": {
    "tags": []
   },
   "outputs": [],
   "source": [
    "# comparing to verses for \"tattoo*\": 83 of them (\n",
    "topicsubstr = \"tattoo\"\n",
    "tattoodf = rd.df[rd.df.Topic.str.startswith(topicsubstr)]\n",
    "print(f\"{len(tattoodf)} verses with {tattoodf.Votes.sum()} votes\")\n",
    "tattoodf.Topic.value_counts()"
   ]
  },
  {
   "cell_type": "code",
   "execution_count": null,
   "id": "27f01ae7-9727-4abb-94e5-44ecd993f571",
   "metadata": {},
   "outputs": [],
   "source": []
  },
  {
   "cell_type": "code",
   "execution_count": null,
   "id": "1ef87088-afce-4dca-a337-9943d02db417",
   "metadata": {
    "tags": []
   },
   "outputs": [],
   "source": [
    "from clearlib.util import listalign\n",
    "listalign.compare([\"tattoos\", \"and\", \"piercings\"], [\"tattoo\", \"and\", \"body\", \"piercings\"])"
   ]
  }
 ],
 "metadata": {
  "kernelspec": {
   "display_name": "Python 3 (ipykernel)",
   "language": "python",
   "name": "python3"
  },
  "language_info": {
   "codemirror_mode": {
    "name": "ipython",
    "version": 3
   },
   "file_extension": ".py",
   "mimetype": "text/x-python",
   "name": "python",
   "nbconvert_exporter": "python",
   "pygments_lexer": "ipython3",
   "version": "3.11.10"
  }
 },
 "nbformat": 4,
 "nbformat_minor": 5
}
