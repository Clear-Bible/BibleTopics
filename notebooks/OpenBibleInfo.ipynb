{
 "cells": [
  {
   "cell_type": "markdown",
   "id": "1612dc31-d63f-4e2f-b859-20eccc2b3300",
   "metadata": {
    "tags": []
   },
   "source": [
    "# Exploring OpenBible.info Data\n",
    "\n",
    "This dataset by Stephen Smith has a collection of topics and associated verses, and was initiated in 2007. The initial set was about 4000 topics based on completing the phrase \"What does the Bible say about...\"). After that:\n",
    "\n",
    "> I used the Yahoo Web Search API to get the top thirty webpages related to each topic and then extracted the verse references from each page.\n",
    "\n",
    "(This approach likely included some irrelevant verses: in theory the voting approach should mitigate this.)\n",
    "\n",
    "> This Bible is a mashup of the Yahoo! and ESV Bible web services. It searches the Internet for the topics that interest people, many of which you’d never find in a traditional topical Bible. Then it shows relevant verses.\n",
    "\n",
    "Because of the methodology for adding topics, this data might be most useful if combined with other, more curated topic inventories.\n",
    "\n",
    "On the resulting site, users are invited to \n",
    "- vote on the relevance of the verse to the topics\n",
    "- suggest other verses for a topic\n",
    "- suggest new topics\n",
    "\n",
    "> Since launching three weeks ago, people have voted up or down 3,000 verses and suggested 200 new verses, in addition to creating 500 new topics.\n",
    "\n",
    "The original site had a passage -> tag cloud feature that no longer appears to function.\n",
    "\n",
    "## Scoring\n",
    "\n",
    "The initial scores:\n",
    "\n",
    "> each page got one vote per unique verse—so two references to John 1:1 on the same page would only count as one vote. All verses that appeared on two or more webpages made it into the main TB index.\n",
    "\n",
    "(This suggests that any topic/passage pair which still has only two votes might be discardable.)\n",
    "\n",
    "> About 750 of the topics occurred in both the new TB and in Nave’s; every verse for each topic in Nave’s got an extra three votes in the new TB.\n",
    "\n",
    "* Initial release: [June « 2007 « OpenBible.info Blog](https://www.openbible.info/blog/2007/06/)\n",
    "* [Topical Bible Technical Notes « OpenBible.info Blog](https://www.openbible.info/blog/2007/07/topical-bible-technical-notes/)\n",
    "* Other blog posts on the category Topic: https://www.openbible.info/blog/category/topics/. This includes some interesting change-over-time analysis for some hot-button topics.\n",
    "\n",
    "## Duplicate Topics\n",
    "\n",
    "> Searching for a word will automatically add it.\n",
    "\n",
    "This means there's some duplication that should probably be collapsed, e.g. \n",
    "\n",
    "```\n",
    "Tatoos On The Body\n",
    "...\n",
    "Tattoo\n",
    "Tattooing\n",
    "Tattooing Your Body\n",
    "Tattoos\n",
    "Tattoos And Body Piercings\n",
    "Tattoos And Piercings\n",
    "Tattoos Body Piercings\n",
    "```\n",
    "\n",
    "## Updates\n",
    "\n",
    "Note this data is still updated weekly: this snapshot is from 2024-08-05. It might be interesting to compare against previous versions to see whether the data is still growing, and how. For example, the letter T currently has 734 entries: it had the same number of entries in 2014.\n",
    "\n",
    "The analysis below shows:\n",
    "* There are now 6700 unique topics. So clearly some de-duping and consolidation may be needed.\n",
    "* There is a \"fat head\" of topics with a vote count way above the mean"
   ]
  },
  {
   "cell_type": "code",
   "execution_count": 1,
   "id": "7dcb8c9d-2567-4f7d-acfe-b64ffb86d69a",
   "metadata": {},
   "outputs": [],
   "source": [
    "# Setup\n",
    "import pandas as pd\n",
    "pd.set_option('display.max_columns', 500)\n",
    "pd.set_option('display.width', 1000)\n",
    "\n",
    "from src.openbibleinfo import reader\n",
    "rd = reader.Reader()"
   ]
  },
  {
   "cell_type": "code",
   "execution_count": 2,
   "id": "579d9762-d8c6-4b6e-8493-f9773802e956",
   "metadata": {},
   "outputs": [
    {
     "data": {
      "text/html": [
       "<div>\n",
       "<style scoped>\n",
       "    .dataframe tbody tr th:only-of-type {\n",
       "        vertical-align: middle;\n",
       "    }\n",
       "\n",
       "    .dataframe tbody tr th {\n",
       "        vertical-align: top;\n",
       "    }\n",
       "\n",
       "    .dataframe thead th {\n",
       "        text-align: right;\n",
       "    }\n",
       "</style>\n",
       "<table border=\"1\" class=\"dataframe\">\n",
       "  <thead>\n",
       "    <tr style=\"text-align: right;\">\n",
       "      <th></th>\n",
       "      <th>Topic</th>\n",
       "      <th>StartVerseId</th>\n",
       "      <th>EndVerseId</th>\n",
       "      <th>Votes</th>\n",
       "      <th>PassageLength</th>\n",
       "      <th>UsableRange</th>\n",
       "    </tr>\n",
       "  </thead>\n",
       "  <tbody>\n",
       "    <tr>\n",
       "      <th>0</th>\n",
       "      <td>10 commandments</td>\n",
       "      <td>02020001</td>\n",
       "      <td>02020026</td>\n",
       "      <td>291</td>\n",
       "      <td>26</td>\n",
       "      <td>True</td>\n",
       "    </tr>\n",
       "    <tr>\n",
       "      <th>1</th>\n",
       "      <td>10 commandments</td>\n",
       "      <td>48005014</td>\n",
       "      <td>&lt;NA&gt;</td>\n",
       "      <td>140</td>\n",
       "      <td>1</td>\n",
       "      <td>False</td>\n",
       "    </tr>\n",
       "    <tr>\n",
       "      <th>2</th>\n",
       "      <td>10 commandments</td>\n",
       "      <td>45013008</td>\n",
       "      <td>45013010</td>\n",
       "      <td>114</td>\n",
       "      <td>3</td>\n",
       "      <td>True</td>\n",
       "    </tr>\n",
       "    <tr>\n",
       "      <th>3</th>\n",
       "      <td>10 commandments</td>\n",
       "      <td>05004013</td>\n",
       "      <td>&lt;NA&gt;</td>\n",
       "      <td>101</td>\n",
       "      <td>1</td>\n",
       "      <td>False</td>\n",
       "    </tr>\n",
       "    <tr>\n",
       "      <th>4</th>\n",
       "      <td>10 commandments</td>\n",
       "      <td>02034028</td>\n",
       "      <td>&lt;NA&gt;</td>\n",
       "      <td>93</td>\n",
       "      <td>1</td>\n",
       "      <td>False</td>\n",
       "    </tr>\n",
       "  </tbody>\n",
       "</table>\n",
       "</div>"
      ],
      "text/plain": [
       "             Topic StartVerseId EndVerseId  Votes  PassageLength  UsableRange\n",
       "0  10 commandments     02020001   02020026    291             26         True\n",
       "1  10 commandments     48005014       <NA>    140              1        False\n",
       "2  10 commandments     45013008   45013010    114              3         True\n",
       "3  10 commandments     05004013       <NA>    101              1        False\n",
       "4  10 commandments     02034028       <NA>     93              1        False"
      ]
     },
     "execution_count": 2,
     "metadata": {},
     "output_type": "execute_result"
    }
   ],
   "source": [
    "# some passages are ranges (EXO 20:1-26), others a single verse (Gal 5:14)\n",
    "rd.df.head()"
   ]
  },
  {
   "cell_type": "code",
   "execution_count": 3,
   "id": "4e0b1b3a-0187-463d-bb24-5b541cb52323",
   "metadata": {
    "tags": []
   },
   "outputs": [
    {
     "name": "stdout",
     "output_type": "stream",
     "text": [
      "Number of uniq topics: \t     6713\n",
      "Number of rows: \t   465956\n",
      "Number of votes: \t 73692178\n"
     ]
    }
   ],
   "source": [
    "n_topics = len(rd.df.Topic.value_counts())\n",
    "n_records = len(rd.df)\n",
    "n_votes = rd.df.Votes.sum()\n",
    "print(f\"Number of uniq topics: \\t{n_topics:9}\")\n",
    "print(f\"Number of rows: \\t{n_records:9}\")\n",
    "print(f\"Number of votes: \\t{n_votes:9}\")"
   ]
  },
  {
   "cell_type": "markdown",
   "id": "c2ace2f1-19aa-48b1-8ff1-8413856663b8",
   "metadata": {},
   "source": [
    "## Expanding the Data: Passage Length\n",
    "\n",
    "Some verses have an `EndVerseId` value, indicating a range. This adds a `PassageLength` column. \n",
    "* The value is 1 if no `EndVerseId`\n",
    "* If the `EndVerseId` is in a different chapter, arbitrarily return length == 99. My code can't currently enumerate these verses, and potentially too long anyway.\n",
    "* If the `EndVerseId` is in a different book, return 999. These ranges seem way too long to be useful. There are 72 of them, some of them hot button topics. Less than 1/1000 votes. \n"
   ]
  },
  {
   "cell_type": "code",
   "execution_count": 4,
   "id": "6d4cf3e4-94e9-4dae-a123-7102aec0220f",
   "metadata": {
    "tags": []
   },
   "outputs": [
    {
     "name": "stdout",
     "output_type": "stream",
     "text": [
      "8373 cross-chapter records\n",
      "0.95% of all votes\n"
     ]
    },
    {
     "data": {
      "text/plain": [
       "Topic\n",
       "islam               131\n",
       "being single        107\n",
       "hate                101\n",
       "abortion             96\n",
       "sports               90\n",
       "                   ... \n",
       "annoying people       1\n",
       "ankh                  1\n",
       "animal cruelty        1\n",
       "anger management      1\n",
       "666                   1\n",
       "Name: count, Length: 1235, dtype: Int64"
      ]
     },
     "execution_count": 4,
     "metadata": {},
     "output_type": "execute_result"
    }
   ],
   "source": [
    "# cross-chapter ranges\n",
    "ccrecords = rd.df[rd.df.PassageLength==99]\n",
    "print(f\"{len(ccrecords)} cross-chapter records\")\n",
    "print(f\"{(ccrecords.Votes.sum() / n_votes)*100:.2f}% of all votes\")\n",
    "ccrecords.Topic.value_counts()"
   ]
  },
  {
   "cell_type": "code",
   "execution_count": 5,
   "id": "dad0fb44-3c15-4793-b647-c5ab5a027866",
   "metadata": {},
   "outputs": [
    {
     "name": "stdout",
     "output_type": "stream",
     "text": [
      "0.005% of all votes\n"
     ]
    },
    {
     "data": {
      "text/plain": [
       "Topic\n",
       "islam                    7\n",
       "being single             6\n",
       "abortion                 6\n",
       "christmas                5\n",
       "video games              3\n",
       "                        ..\n",
       "violence                 1\n",
       "watching tv              1\n",
       "atheists                 1\n",
       "losing your salvation    1\n",
       "yoga                     1\n",
       "Name: count, Length: 72, dtype: Int64"
      ]
     },
     "execution_count": 5,
     "metadata": {},
     "output_type": "execute_result"
    }
   ],
   "source": [
    "# cross-book ranges: these will likely get dropped\n",
    "cbrecords = rd.df[rd.df.PassageLength==999]\n",
    "print(f\"{(cbrecords.Votes.sum() / n_votes)*100:.3f}% of all votes\")\n",
    "cbrecords.Topic.value_counts()"
   ]
  },
  {
   "cell_type": "code",
   "execution_count": 6,
   "id": "4519175c-670b-440f-a4b8-b4fb59235337",
   "metadata": {},
   "outputs": [
    {
     "name": "stdout",
     "output_type": "stream",
     "text": [
      "Number of uniq topics: \t     6713\n",
      "Number of rows: \t   465956\n",
      "Number of votes: \t 73692178\n"
     ]
    }
   ],
   "source": [
    "# topicsdf removes passages whose UsableRange < 99\n",
    "n_topics = len(rd.topicsdf.Topic.value_counts())\n",
    "n_records = len(rd.topicsdf)\n",
    "n_votes = rd.topicsdf.Votes.sum()\n",
    "print(f\"Number of uniq topics: \\t{n_topics:9}\")\n",
    "print(f\"Number of rows: \\t{n_records:9}\")\n",
    "print(f\"Number of votes: \\t{n_votes:9}\")"
   ]
  },
  {
   "cell_type": "markdown",
   "id": "587b11bd-318e-446a-9980-08fbf6f2070b",
   "metadata": {},
   "source": [
    "### Distribution of Passage Lengths\n",
    "\n",
    "This excludes cross-chapter and cross-book ranges. \n",
    "\n",
    "Looks like lengths <= 5 cover about 90% of the data. So perhaps enumerate and split votes up to that length, and otherwise treat as atomic (perhaps with a constant epsilon weight)? "
   ]
  },
  {
   "cell_type": "code",
   "execution_count": 7,
   "id": "84bd1236-a4dd-4743-8000-f85ef5aabe04",
   "metadata": {
    "tags": []
   },
   "outputs": [
    {
     "name": "stdout",
     "output_type": "stream",
     "text": [
      "Records with a 'good' PassageLength value: 465956 (100.00%)\n"
     ]
    },
    {
     "data": {
      "text/plain": [
       "PassageLength\n",
       "1      0.709885\n",
       "2      0.091275\n",
       "3      0.041639\n",
       "4      0.020180\n",
       "99     0.017970\n",
       "         ...   \n",
       "107    0.000002\n",
       "76     0.000002\n",
       "70     0.000002\n",
       "110    0.000002\n",
       "79     0.000002\n",
       "Name: proportion, Length: 82, dtype: float64"
      ]
     },
     "execution_count": 7,
     "metadata": {},
     "output_type": "execute_result"
    }
   ],
   "source": [
    "print(f\"Records with a 'good' PassageLength value: {len(rd.topicsdf)} ({(len(rd.topicsdf)/n_records)*100:.2f}%)\")\n",
    "rd.topicsdf.PassageLength.value_counts(normalize=True)"
   ]
  },
  {
   "cell_type": "markdown",
   "id": "476c7794-e6c4-4c63-952d-b2e5197d6fef",
   "metadata": {
    "tags": []
   },
   "source": [
    "## \"Top\" Topics\n",
    "\n",
    "A TopicRecord combines a Topic label, a set of passages, and a count of votes. \n",
    "* `TopicVotesSum` are the sum of votes for a topic\n",
    "* `TopicPassageCount` is the count of passages for a topic\n",
    "* `MeanPassageVotes` is `TopicVotesSum`/`TopicPassageCount`"
   ]
  },
  {
   "cell_type": "code",
   "execution_count": null,
   "id": "99c122c6-bba0-4d6d-abf5-6bb8e47fb15d",
   "metadata": {},
   "outputs": [],
   "source": []
  },
  {
   "cell_type": "code",
   "execution_count": 15,
   "id": "e89e85fd-daa9-4ea6-8958-d9c3a0b15cdb",
   "metadata": {
    "tags": []
   },
   "outputs": [
    {
     "data": {
      "text/html": [
       "<div>\n",
       "<style scoped>\n",
       "    .dataframe tbody tr th:only-of-type {\n",
       "        vertical-align: middle;\n",
       "    }\n",
       "\n",
       "    .dataframe tbody tr th {\n",
       "        vertical-align: top;\n",
       "    }\n",
       "\n",
       "    .dataframe thead th {\n",
       "        text-align: right;\n",
       "    }\n",
       "</style>\n",
       "<table border=\"1\" class=\"dataframe\">\n",
       "  <thead>\n",
       "    <tr style=\"text-align: right;\">\n",
       "      <th></th>\n",
       "      <th>Topic</th>\n",
       "      <th>TopicPassageCount</th>\n",
       "      <th>TopicVotesSum</th>\n",
       "      <th>MeanPassageVotes</th>\n",
       "    </tr>\n",
       "  </thead>\n",
       "  <tbody>\n",
       "    <tr>\n",
       "      <th>2785</th>\n",
       "      <td>helping others</td>\n",
       "      <td>597</td>\n",
       "      <td>829782</td>\n",
       "      <td>1389.919598</td>\n",
       "    </tr>\n",
       "    <tr>\n",
       "      <th>3027</th>\n",
       "      <td>immigration</td>\n",
       "      <td>367</td>\n",
       "      <td>432590</td>\n",
       "      <td>1178.719346</td>\n",
       "    </tr>\n",
       "    <tr>\n",
       "      <th>1812</th>\n",
       "      <td>eating pork</td>\n",
       "      <td>410</td>\n",
       "      <td>464953</td>\n",
       "      <td>1134.031707</td>\n",
       "    </tr>\n",
       "    <tr>\n",
       "      <th>5352</th>\n",
       "      <td>sodomy</td>\n",
       "      <td>480</td>\n",
       "      <td>481264</td>\n",
       "      <td>1002.633333</td>\n",
       "    </tr>\n",
       "    <tr>\n",
       "      <th>489</th>\n",
       "      <td>being born again</td>\n",
       "      <td>264</td>\n",
       "      <td>262186</td>\n",
       "      <td>993.128788</td>\n",
       "    </tr>\n",
       "    <tr>\n",
       "      <th>4529</th>\n",
       "      <td>power of words</td>\n",
       "      <td>761</td>\n",
       "      <td>711287</td>\n",
       "      <td>934.674113</td>\n",
       "    </tr>\n",
       "    <tr>\n",
       "      <th>1338</th>\n",
       "      <td>covenant</td>\n",
       "      <td>326</td>\n",
       "      <td>297725</td>\n",
       "      <td>913.266871</td>\n",
       "    </tr>\n",
       "    <tr>\n",
       "      <th>2866</th>\n",
       "      <td>homosexuality</td>\n",
       "      <td>323</td>\n",
       "      <td>293903</td>\n",
       "      <td>909.916409</td>\n",
       "    </tr>\n",
       "    <tr>\n",
       "      <th>5317</th>\n",
       "      <td>slavery</td>\n",
       "      <td>548</td>\n",
       "      <td>496198</td>\n",
       "      <td>905.470803</td>\n",
       "    </tr>\n",
       "    <tr>\n",
       "      <th>2577</th>\n",
       "      <td>gossip</td>\n",
       "      <td>424</td>\n",
       "      <td>379530</td>\n",
       "      <td>895.117925</td>\n",
       "    </tr>\n",
       "  </tbody>\n",
       "</table>\n",
       "</div>"
      ],
      "text/plain": [
       "                 Topic  TopicPassageCount  TopicVotesSum  MeanPassageVotes\n",
       "2785    helping others                597         829782       1389.919598\n",
       "3027       immigration                367         432590       1178.719346\n",
       "1812       eating pork                410         464953       1134.031707\n",
       "5352            sodomy                480         481264       1002.633333\n",
       "489   being born again                264         262186        993.128788\n",
       "4529    power of words                761         711287        934.674113\n",
       "1338          covenant                326         297725        913.266871\n",
       "2866     homosexuality                323         293903        909.916409\n",
       "5317           slavery                548         496198        905.470803\n",
       "2577            gossip                424         379530        895.117925"
      ]
     },
     "execution_count": 15,
     "metadata": {},
     "output_type": "execute_result"
    }
   ],
   "source": [
    "# 55 is the 80% value for MeanPassageVotes across rd.topicsdf\n",
    "# so an approximation for \"high number of votes per passage\"\n",
    "toptopics = rd.top_topics(threshold=55)\n",
    "toptopics.sort_values('MeanPassageVotes', ascending=False).head(10)"
   ]
  },
  {
   "cell_type": "code",
   "execution_count": 16,
   "id": "86b18c43-1f0c-43a4-bfa0-44de934dc1b8",
   "metadata": {
    "tags": []
   },
   "outputs": [
    {
     "data": {
      "text/html": [
       "<div>\n",
       "<style scoped>\n",
       "    .dataframe tbody tr th:only-of-type {\n",
       "        vertical-align: middle;\n",
       "    }\n",
       "\n",
       "    .dataframe tbody tr th {\n",
       "        vertical-align: top;\n",
       "    }\n",
       "\n",
       "    .dataframe thead th {\n",
       "        text-align: right;\n",
       "    }\n",
       "</style>\n",
       "<table border=\"1\" class=\"dataframe\">\n",
       "  <thead>\n",
       "    <tr style=\"text-align: right;\">\n",
       "      <th></th>\n",
       "      <th>TopicPassageCount</th>\n",
       "      <th>TopicVotesSum</th>\n",
       "      <th>MeanPassageVotes</th>\n",
       "    </tr>\n",
       "  </thead>\n",
       "  <tbody>\n",
       "    <tr>\n",
       "      <th>count</th>\n",
       "      <td>1355.000000</td>\n",
       "      <td>1355.000000</td>\n",
       "      <td>1355.000000</td>\n",
       "    </tr>\n",
       "    <tr>\n",
       "      <th>mean</th>\n",
       "      <td>190.954982</td>\n",
       "      <td>49327.308487</td>\n",
       "      <td>179.582226</td>\n",
       "    </tr>\n",
       "    <tr>\n",
       "      <th>std</th>\n",
       "      <td>135.306835</td>\n",
       "      <td>85410.272764</td>\n",
       "      <td>176.034914</td>\n",
       "    </tr>\n",
       "    <tr>\n",
       "      <th>min</th>\n",
       "      <td>1.000000</td>\n",
       "      <td>66.000000</td>\n",
       "      <td>55.023364</td>\n",
       "    </tr>\n",
       "    <tr>\n",
       "      <th>25%</th>\n",
       "      <td>109.000000</td>\n",
       "      <td>7811.000000</td>\n",
       "      <td>66.862163</td>\n",
       "    </tr>\n",
       "    <tr>\n",
       "      <th>50%</th>\n",
       "      <td>161.000000</td>\n",
       "      <td>15804.000000</td>\n",
       "      <td>96.712230</td>\n",
       "    </tr>\n",
       "    <tr>\n",
       "      <th>75%</th>\n",
       "      <td>244.000000</td>\n",
       "      <td>52222.000000</td>\n",
       "      <td>220.242695</td>\n",
       "    </tr>\n",
       "    <tr>\n",
       "      <th>max</th>\n",
       "      <td>1023.000000</td>\n",
       "      <td>829782.000000</td>\n",
       "      <td>1389.919598</td>\n",
       "    </tr>\n",
       "  </tbody>\n",
       "</table>\n",
       "</div>"
      ],
      "text/plain": [
       "       TopicPassageCount  TopicVotesSum  MeanPassageVotes\n",
       "count        1355.000000    1355.000000       1355.000000\n",
       "mean          190.954982   49327.308487        179.582226\n",
       "std           135.306835   85410.272764        176.034914\n",
       "min             1.000000      66.000000         55.023364\n",
       "25%           109.000000    7811.000000         66.862163\n",
       "50%           161.000000   15804.000000         96.712230\n",
       "75%           244.000000   52222.000000        220.242695\n",
       "max          1023.000000  829782.000000       1389.919598"
      ]
     },
     "execution_count": 16,
     "metadata": {},
     "output_type": "execute_result"
    }
   ],
   "source": [
    "# the median TopicPassageCount value is 161: that still seems like way too many\n",
    "toptopics.describe()"
   ]
  },
  {
   "cell_type": "code",
   "execution_count": 17,
   "id": "bad4c1ff-300e-4c98-9bcc-eba0f6103f31",
   "metadata": {
    "tags": []
   },
   "outputs": [
    {
     "data": {
      "text/html": [
       "<div>\n",
       "<style scoped>\n",
       "    .dataframe tbody tr th:only-of-type {\n",
       "        vertical-align: middle;\n",
       "    }\n",
       "\n",
       "    .dataframe tbody tr th {\n",
       "        vertical-align: top;\n",
       "    }\n",
       "\n",
       "    .dataframe thead th {\n",
       "        text-align: right;\n",
       "    }\n",
       "</style>\n",
       "<table border=\"1\" class=\"dataframe\">\n",
       "  <thead>\n",
       "    <tr style=\"text-align: right;\">\n",
       "      <th></th>\n",
       "      <th>Topic</th>\n",
       "      <th>StartVerseId</th>\n",
       "      <th>EndVerseId</th>\n",
       "      <th>Votes</th>\n",
       "      <th>PassageLength</th>\n",
       "      <th>UsableRange</th>\n",
       "    </tr>\n",
       "  </thead>\n",
       "  <tbody>\n",
       "    <tr>\n",
       "      <th>251548</th>\n",
       "      <td>love one another</td>\n",
       "      <td>43013034</td>\n",
       "      <td>&lt;NA&gt;</td>\n",
       "      <td>791</td>\n",
       "      <td>1</td>\n",
       "      <td>False</td>\n",
       "    </tr>\n",
       "    <tr>\n",
       "      <th>251549</th>\n",
       "      <td>love one another</td>\n",
       "      <td>62004020</td>\n",
       "      <td>&lt;NA&gt;</td>\n",
       "      <td>532</td>\n",
       "      <td>1</td>\n",
       "      <td>False</td>\n",
       "    </tr>\n",
       "    <tr>\n",
       "      <th>251550</th>\n",
       "      <td>love one another</td>\n",
       "      <td>60004008</td>\n",
       "      <td>&lt;NA&gt;</td>\n",
       "      <td>489</td>\n",
       "      <td>1</td>\n",
       "      <td>False</td>\n",
       "    </tr>\n",
       "    <tr>\n",
       "      <th>251551</th>\n",
       "      <td>love one another</td>\n",
       "      <td>43013034</td>\n",
       "      <td>43013035</td>\n",
       "      <td>441</td>\n",
       "      <td>2</td>\n",
       "      <td>True</td>\n",
       "    </tr>\n",
       "    <tr>\n",
       "      <th>251552</th>\n",
       "      <td>love one another</td>\n",
       "      <td>45012010</td>\n",
       "      <td>&lt;NA&gt;</td>\n",
       "      <td>375</td>\n",
       "      <td>1</td>\n",
       "      <td>False</td>\n",
       "    </tr>\n",
       "    <tr>\n",
       "      <th>...</th>\n",
       "      <td>...</td>\n",
       "      <td>...</td>\n",
       "      <td>...</td>\n",
       "      <td>...</td>\n",
       "      <td>...</td>\n",
       "      <td>...</td>\n",
       "    </tr>\n",
       "    <tr>\n",
       "      <th>251695</th>\n",
       "      <td>love one another</td>\n",
       "      <td>46006007</td>\n",
       "      <td>&lt;NA&gt;</td>\n",
       "      <td>11</td>\n",
       "      <td>1</td>\n",
       "      <td>False</td>\n",
       "    </tr>\n",
       "    <tr>\n",
       "      <th>251696</th>\n",
       "      <td>love one another</td>\n",
       "      <td>20030018</td>\n",
       "      <td>20030019</td>\n",
       "      <td>10</td>\n",
       "      <td>2</td>\n",
       "      <td>True</td>\n",
       "    </tr>\n",
       "    <tr>\n",
       "      <th>251697</th>\n",
       "      <td>love one another</td>\n",
       "      <td>45014019</td>\n",
       "      <td>&lt;NA&gt;</td>\n",
       "      <td>10</td>\n",
       "      <td>1</td>\n",
       "      <td>False</td>\n",
       "    </tr>\n",
       "    <tr>\n",
       "      <th>251698</th>\n",
       "      <td>love one another</td>\n",
       "      <td>49002004</td>\n",
       "      <td>49002005</td>\n",
       "      <td>10</td>\n",
       "      <td>2</td>\n",
       "      <td>True</td>\n",
       "    </tr>\n",
       "    <tr>\n",
       "      <th>251699</th>\n",
       "      <td>love one another</td>\n",
       "      <td>40025040</td>\n",
       "      <td>&lt;NA&gt;</td>\n",
       "      <td>10</td>\n",
       "      <td>1</td>\n",
       "      <td>False</td>\n",
       "    </tr>\n",
       "  </tbody>\n",
       "</table>\n",
       "<p>152 rows × 6 columns</p>\n",
       "</div>"
      ],
      "text/plain": [
       "                   Topic StartVerseId EndVerseId  Votes  PassageLength  UsableRange\n",
       "251548  love one another     43013034       <NA>    791              1        False\n",
       "251549  love one another     62004020       <NA>    532              1        False\n",
       "251550  love one another     60004008       <NA>    489              1        False\n",
       "251551  love one another     43013034   43013035    441              2         True\n",
       "251552  love one another     45012010       <NA>    375              1        False\n",
       "...                  ...          ...        ...    ...            ...          ...\n",
       "251695  love one another     46006007       <NA>     11              1        False\n",
       "251696  love one another     20030018   20030019     10              2         True\n",
       "251697  love one another     45014019       <NA>     10              1        False\n",
       "251698  love one another     49002004   49002005     10              2         True\n",
       "251699  love one another     40025040       <NA>     10              1        False\n",
       "\n",
       "[152 rows x 6 columns]"
      ]
     },
     "execution_count": 17,
     "metadata": {},
     "output_type": "execute_result"
    }
   ],
   "source": [
    "# we might further filter rd.topicsdf to the top n passages for each topic in toptopics.Topic\n",
    "# we could also choose a higher threshold for top_topics()\n",
    "rd.topicsdf[rd.topicsdf.Topic == \"love one another\"]"
   ]
  },
  {
   "cell_type": "code",
   "execution_count": null,
   "id": "b123d2f8-a355-481a-a916-73952049a47d",
   "metadata": {},
   "outputs": [],
   "source": []
  },
  {
   "cell_type": "markdown",
   "id": "3a34d719-30c0-4cdd-9267-0cb8f23f195c",
   "metadata": {},
   "source": [
    "## Expanding the Data: Topic Overlap\n",
    "\n",
    "Topics overlap due to:\n",
    "* typos (tatoo vs tattoo)\n",
    "* general/specific \n",
    "* synonymy\n",
    "\n",
    "Approach for similar strings:\n",
    "* set a threshold S for similarity\n",
    "* Compare all pairs T1, T2\n",
    "* For all pairs whose similarity > S, combine them\n",
    "* Repeat, averaging similarity across members of each set TS1, TS2. Might need to relax S given the averaging strategy?\n",
    "\n",
    "Once term sets are combined, combine their verse inventories, averaging their votes. Potentially discard verses with counts below a threshold? \n"
   ]
  },
  {
   "cell_type": "code",
   "execution_count": null,
   "id": "8b803d18-c95c-4864-834b-dae14c45e9d5",
   "metadata": {
    "tags": []
   },
   "outputs": [],
   "source": [
    "# verses for \"helping others\": 597 of them, so a much larger spread than some other topics\n",
    "rd.display_topic_data(\"helping others\")\n",
    "# print(f\"{len(df[df.Topic.str.startswith('helping others')])} verses with {df[df.Topic.str.startswith('helping others')].Votes.sum()} votes\")"
   ]
  },
  {
   "cell_type": "code",
   "execution_count": null,
   "id": "3f3a7deb-a53c-40ac-8eef-f88bc87cc464",
   "metadata": {
    "tags": []
   },
   "outputs": [],
   "source": [
    "helptopic = \"helping others\"\n",
    "helpdf = rd.df[rd.df.Topic == helptopic]\n",
    "helpdf"
   ]
  },
  {
   "cell_type": "code",
   "execution_count": null,
   "id": "b0dc3097-3397-4901-b70f-4b7b7419fe91",
   "metadata": {
    "tags": []
   },
   "outputs": [],
   "source": [
    "helpvotesmedian = helpdf.Votes.median()\n",
    "helpdf[helpdf.Votes > helpvotesmedian]"
   ]
  },
  {
   "cell_type": "code",
   "execution_count": null,
   "id": "26e94150-a73c-4093-a9a3-572fbee4d241",
   "metadata": {
    "tags": []
   },
   "outputs": [],
   "source": [
    "helpabovemedian = helpdf[helpdf.Votes >= helpvotesmedian]\n",
    "helpbelowmedian = helpdf[helpdf.Votes < helpvotesmedian]\n",
    "print(f\"Votes above median: {len(helpabovemedian)} verses, {helpabovemedian.Votes.sum()} votes \")\n",
    "print(f\"Votes below median: {len(helpbelowmedian)} verses, {helpbelowmedian.Votes.sum()} votes \")"
   ]
  },
  {
   "cell_type": "markdown",
   "id": "5dfe19b5-0309-4036-ab41-46e94352aefa",
   "metadata": {
    "tags": []
   },
   "source": [
    "## Multi-word Topics\n",
    "\n",
    "How many topics have multiple terms, and what's the distribution?"
   ]
  },
  {
   "cell_type": "code",
   "execution_count": null,
   "id": "b9e3c082-031d-4e0b-b8c6-2375017fdd65",
   "metadata": {
    "tags": []
   },
   "outputs": [],
   "source": [
    "# get NLTK stopwords and make a superstring removing stop words\n",
    "import nltk\n",
    "from nltk.corpus import stopwords\n",
    "english_stop_words = stopwords.words('english')\n",
    "def slugify(string: str) -> str:\n",
    "    \"\"\"Remove stop words from string and join the results.\"\"\"\n",
    "    return \"\".join([s for s in string.split(\" \") if s not in english_stop_words])\n"
   ]
  },
  {
   "cell_type": "code",
   "execution_count": null,
   "id": "f9761982-1d2f-4b37-b35f-f5bf38c9664f",
   "metadata": {
    "tags": []
   },
   "outputs": [],
   "source": [
    "topicsdf = pd.DataFrame(rd.df.Topic.value_counts())\n",
    "topicsdf = topicsdf.reset_index()\n",
    "topicsdf.columns = [\"Topic\", \"Count\"]\n",
    "#topicsdf\n",
    "topicsdf[\"AllTermsCount\"] = topicsdf.apply(lambda t: len(t.Topic.split(\" \")), axis=1)\n",
    "# remove stopwords\n",
    "topicsdf[\"SlugTerm\"] = topicsdf.apply(lambda t: slugify(t.Topic), axis=1)\n",
    "topicsdf.head()"
   ]
  },
  {
   "cell_type": "code",
   "execution_count": null,
   "id": "ac380337-ab11-4d1f-8373-00e36c3a422a",
   "metadata": {
    "tags": []
   },
   "outputs": [],
   "source": [
    "# make a big NxN matrix of all the SlugTerm values\n",
    "from thefuzz import fuzz\n",
    "slugterms = list(topicsdf.SlugTerm)\n",
    "# Create a DataFrame with each string as a row, and all the strings as columns\n",
    "slugdf = pd.DataFrame(\"\" * len(slugterms), columns=slugterms, index=slugterms)\n",
    "\n",
    "for i in range(len(slugterms)):\n",
    "    st1 = slugterms[i]\n",
    "    for j in range(i+1, len(slugterms)):\n",
    "        st2 = slugterms[j]\n",
    "        slugdf.loc[st1,st2] = fuzz.ratio(st1, st2)/100\n",
    "slugdf.head()"
   ]
  },
  {
   "cell_type": "code",
   "execution_count": null,
   "id": "bad0f304-8cb9-484c-9787-53e223eb0462",
   "metadata": {
    "tags": []
   },
   "outputs": [],
   "source": [
    "len(slugterms)"
   ]
  },
  {
   "cell_type": "code",
   "execution_count": null,
   "id": "0b636f31-7be9-4d4a-b546-b1b63aa4d829",
   "metadata": {
    "tags": []
   },
   "outputs": [],
   "source": [
    "# quite a few 2-3 word topics, and even one with 12 words! \"were does the bible teach that jesus is the so...\"\n",
    "topicsdf.Termcount.value_counts()"
   ]
  },
  {
   "cell_type": "code",
   "execution_count": null,
   "id": "50266ea2-ef2b-4a40-bb31-a352e543e11b",
   "metadata": {
    "tags": []
   },
   "outputs": [],
   "source": [
    "topicsdf[topicsdf.Termcount==8].Topic"
   ]
  },
  {
   "cell_type": "code",
   "execution_count": null,
   "id": "30a40d16-fa58-408b-a0ed-90a9a985cb16",
   "metadata": {
    "tags": []
   },
   "outputs": [],
   "source": [
    "topicsdf[topicsdf.Termcount==12].Topic"
   ]
  },
  {
   "cell_type": "code",
   "execution_count": null,
   "id": "847a441d-0ab5-4b94-84cb-68fb7bc26972",
   "metadata": {
    "tags": []
   },
   "outputs": [],
   "source": [
    "# distributional statistics for Votes\n",
    "# Unlike the website display, it looks like only verses with at least 10 votes are included in the downloaded data\n",
    "# The median number of votes is 30\n",
    "# The standard deviation is very large! A lot of strong outliers at the upper end apparently. \n",
    "rd.df.Votes.describe()"
   ]
  },
  {
   "cell_type": "code",
   "execution_count": null,
   "id": "d9b8c470-e238-49ba-8ed1-8d1d3be7a993",
   "metadata": {
    "tags": []
   },
   "outputs": [],
   "source": [
    "# focusing on the fat head\n",
    "rd.df.Votes.describe(percentiles=[.75, .80, .85, .90, .95])"
   ]
  },
  {
   "cell_type": "code",
   "execution_count": null,
   "id": "c8a55c56-c3db-4abc-8ce0-4172e159ab39",
   "metadata": {
    "tags": []
   },
   "outputs": [],
   "source": [
    "# the topic+verse with the most votes: \"helping others\"\n",
    "rd.df[rd.df.Votes == 24420]"
   ]
  },
  {
   "cell_type": "code",
   "execution_count": null,
   "id": "1de3c0b8-061b-4889-a6c4-06fbf0f8487a",
   "metadata": {},
   "outputs": [],
   "source": []
  },
  {
   "cell_type": "code",
   "execution_count": null,
   "id": "62d1b92a-df63-4f0d-8373-7fb34d298e99",
   "metadata": {},
   "outputs": [],
   "source": []
  },
  {
   "cell_type": "code",
   "execution_count": null,
   "id": "8d5b65a6-434f-4679-9dcb-a5fecd6ea676",
   "metadata": {
    "tags": []
   },
   "outputs": [],
   "source": [
    "# other topics for the most popular verse. \n",
    "rd.df[rd.df.StartVerseId==\"50002004\"]"
   ]
  },
  {
   "cell_type": "code",
   "execution_count": null,
   "id": "448da7ec-62d2-4519-b7ec-f2db91d42100",
   "metadata": {
    "tags": []
   },
   "outputs": [],
   "source": [
    "# 50002005 is within the range for \"affliction\" above: does it also occur as a start or end?\n",
    "# yes: a lot! This suggests we need to enumerate ranges into their components for better verse counting\n",
    "# but just multiplying e.g. a range of five into five rows would seriously overweight their votes. \n",
    "# Dividing their votes by the range seems like it might _underweight_ their votes. \n",
    "# It's the old \"how to score ranges\" problem. \n",
    "rd.df[(rd.df.StartVerseId==\"50002005\") | (rd.df.EndVerseId==\"50002005\")]"
   ]
  },
  {
   "cell_type": "code",
   "execution_count": null,
   "id": "710fd9fc-f07f-43ae-a2f8-b72a013ce477",
   "metadata": {},
   "outputs": [],
   "source": []
  },
  {
   "cell_type": "code",
   "execution_count": null,
   "id": "b076d538-683b-445e-aaae-e3c1776ca3bd",
   "metadata": {},
   "outputs": [],
   "source": []
  },
  {
   "cell_type": "code",
   "execution_count": null,
   "id": "f5078d12-b0f0-43d6-bcb7-90d9ac2b18d3",
   "metadata": {},
   "outputs": [],
   "source": []
  },
  {
   "cell_type": "code",
   "execution_count": null,
   "id": "9fea111e-b45b-4ff7-8779-be85ec55157e",
   "metadata": {},
   "outputs": [],
   "source": []
  },
  {
   "cell_type": "code",
   "execution_count": null,
   "id": "dc1def48-4838-4f96-9508-4fabb288f8d5",
   "metadata": {
    "tags": []
   },
   "outputs": [],
   "source": [
    "# comparing to verses for \"tattoo*\": 83 of them (\n",
    "topicsubstr = \"tattoo\"\n",
    "tattoodf = rd.df[rd.df.Topic.str.startswith(topicsubstr)]\n",
    "print(f\"{len(tattoodf)} verses with {tattoodf.Votes.sum()} votes\")\n",
    "tattoodf.Topic.value_counts()"
   ]
  },
  {
   "cell_type": "code",
   "execution_count": null,
   "id": "27f01ae7-9727-4abb-94e5-44ecd993f571",
   "metadata": {},
   "outputs": [],
   "source": []
  },
  {
   "cell_type": "code",
   "execution_count": null,
   "id": "1ef87088-afce-4dca-a337-9943d02db417",
   "metadata": {
    "tags": []
   },
   "outputs": [],
   "source": [
    "from clearlib.util import listalign\n",
    "listalign.compare([\"tattoos\", \"and\", \"piercings\"], [\"tattoo\", \"and\", \"body\", \"piercings\"])"
   ]
  }
 ],
 "metadata": {
  "kernelspec": {
   "display_name": "Python 3 (ipykernel)",
   "language": "python",
   "name": "python3"
  },
  "language_info": {
   "codemirror_mode": {
    "name": "ipython",
    "version": 3
   },
   "file_extension": ".py",
   "mimetype": "text/x-python",
   "name": "python",
   "nbconvert_exporter": "python",
   "pygments_lexer": "ipython3",
   "version": "3.11.9"
  }
 },
 "nbformat": 4,
 "nbformat_minor": 5
}
