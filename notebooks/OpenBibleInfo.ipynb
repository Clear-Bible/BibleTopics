{
 "cells": [
  {
   "cell_type": "markdown",
   "id": "1612dc31-d63f-4e2f-b859-20eccc2b3300",
   "metadata": {},
   "source": [
    "# Exploring OpenBible.info Data\n",
    "\n",
    "This dataset by Stephen Smith has a collection of topics and associated verses, and was initiated in 2007. Users are invited to \n",
    "- vote on the relevance of the verse to the topics\n",
    "- suggest other verses for a topic\n",
    "- suggest new topics\n",
    "\n",
    "> This Bible is a mashup of the Yahoo! and ESV Bible web services. It searches the Internet for the topics that interest people, many of which you’d never find in a traditional topical Bible. Then it shows relevant verses.\n",
    "\n",
    "Because of the methodology for adding topics, this data might be most useful if combined with other, more curated topic inventories.\n",
    "\n",
    "## Duplicate Topics\n",
    "\n",
    "> Searching for a word will automatically add it.\n",
    "\n",
    "This means there's some duplication that should probably be collapsed, e.g. \n",
    "\n",
    "```\n",
    "Tatoos On The Body\n",
    "...\n",
    "Tattoo\n",
    "Tattooing\n",
    "Tattooing Your Body\n",
    "Tattoos\n",
    "Tattoos And Body Piercings\n",
    "Tattoos And Piercings\n",
    "Tattoos Body Piercings\n",
    "```\n",
    "\n",
    "## Updates\n",
    "\n",
    "Note this data is still updated weekly: this snapshot is from 2024-08-05. It might be interesting to compare against previous versions to see whether the data is still growing, and how. For example, the letter T currently has 734 entries: it had the same number of entries in 2014."
   ]
  },
  {
   "cell_type": "code",
   "execution_count": null,
   "id": "7dcb8c9d-2567-4f7d-acfe-b64ffb86d69a",
   "metadata": {},
   "outputs": [],
   "source": []
  }
 ],
 "metadata": {
  "kernelspec": {
   "display_name": "Python 3 (ipykernel)",
   "language": "python",
   "name": "python3"
  },
  "language_info": {
   "codemirror_mode": {
    "name": "ipython",
    "version": 3
   },
   "file_extension": ".py",
   "mimetype": "text/x-python",
   "name": "python",
   "nbconvert_exporter": "python",
   "pygments_lexer": "ipython3",
   "version": "3.11.9"
  }
 },
 "nbformat": 4,
 "nbformat_minor": 5
}
